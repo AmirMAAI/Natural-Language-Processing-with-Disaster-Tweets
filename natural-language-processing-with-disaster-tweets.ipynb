{
 "cells": [
  {
   "cell_type": "code",
   "execution_count": 1,
   "id": "a037e480",
   "metadata": {
    "_cell_guid": "b1076dfc-b9ad-4769-8c92-a6c4dae69d19",
    "_uuid": "8f2839f25d086af736a60e9eeb907d3b93b6e0e5",
    "execution": {
     "iopub.execute_input": "2022-08-06T19:43:53.000119Z",
     "iopub.status.busy": "2022-08-06T19:43:52.999337Z",
     "iopub.status.idle": "2022-08-06T19:43:53.014059Z",
     "shell.execute_reply": "2022-08-06T19:43:53.013259Z"
    },
    "papermill": {
     "duration": 0.036547,
     "end_time": "2022-08-06T19:43:53.016688",
     "exception": false,
     "start_time": "2022-08-06T19:43:52.980141",
     "status": "completed"
    },
    "tags": []
   },
   "outputs": [
    {
     "name": "stdout",
     "output_type": "stream",
     "text": [
      "/kaggle/input/nlp-getting-started/sample_submission.csv\n",
      "/kaggle/input/nlp-getting-started/train.csv\n",
      "/kaggle/input/nlp-getting-started/test.csv\n"
     ]
    }
   ],
   "source": [
    "# This Python 3 environment comes with many helpful analytics libraries installed\n",
    "# It is defined by the kaggle/python Docker image: https://github.com/kaggle/docker-python\n",
    "# For example, here's several helpful packages to load\n",
    "\n",
    "import numpy as np # linear algebra\n",
    "import pandas as pd # data processing, CSV file I/O (e.g. pd.read_csv)\n",
    "\n",
    "# Input data files are available in the read-only \"../input/\" directory\n",
    "# For example, running this (by clicking run or pressing Shift+Enter) will list all files under the input directory\n",
    "\n",
    "import os\n",
    "for dirname, _, filenames in os.walk('/kaggle/input'):\n",
    "    for filename in filenames:\n",
    "        print(os.path.join(dirname, filename))\n",
    "\n",
    "# You can write up to 20GB to the current directory (/kaggle/working/) that gets preserved as output when you create a version using \"Save & Run All\" \n",
    "# You can also write temporary files to /kaggle/temp/, but they won't be saved outside of the current session"
   ]
  },
  {
   "cell_type": "markdown",
   "id": "aa22be80",
   "metadata": {
    "papermill": {
     "duration": 0.016197,
     "end_time": "2022-08-06T19:43:53.048557",
     "exception": false,
     "start_time": "2022-08-06T19:43:53.032360",
     "status": "completed"
    },
    "tags": []
   },
   "source": [
    "<a id=\"1\"></a> <br>\n",
    "# 1. Import Necessary Libraries"
   ]
  },
  {
   "cell_type": "code",
   "execution_count": 2,
   "id": "71573641",
   "metadata": {
    "execution": {
     "iopub.execute_input": "2022-08-06T19:43:53.080061Z",
     "iopub.status.busy": "2022-08-06T19:43:53.079275Z",
     "iopub.status.idle": "2022-08-06T19:44:00.926841Z",
     "shell.execute_reply": "2022-08-06T19:44:00.925499Z"
    },
    "papermill": {
     "duration": 7.866362,
     "end_time": "2022-08-06T19:44:00.929662",
     "exception": false,
     "start_time": "2022-08-06T19:43:53.063300",
     "status": "completed"
    },
    "tags": []
   },
   "outputs": [],
   "source": [
    "import numpy as np\n",
    "import pandas as pd\n",
    "import matplotlib.pyplot as plt\n",
    "import seaborn as sns\n",
    "%matplotlib inline\n",
    "import warnings\n",
    "warnings.filterwarnings('ignore')\n",
    "from sklearn.model_selection import train_test_split\n",
    "from sklearn.metrics import accuracy_score\n",
    "import re\n",
    "import tensorflow as tf\n",
    "from tensorflow.keras.preprocessing.text import Tokenizer\n",
    "from tensorflow.keras.preprocessing.sequence import pad_sequences\n",
    "from bs4 import BeautifulSoup\n",
    "import nltk\n",
    "from nltk.corpus import stopwords\n",
    "from string import punctuation\n",
    "from keras.preprocessing import sequence\n",
    "from tensorflow import keras\n",
    "from keras import models\n",
    "from keras import layers\n",
    "import string\n"
   ]
  },
  {
   "cell_type": "markdown",
   "id": "64644790",
   "metadata": {
    "papermill": {
     "duration": 0.014609,
     "end_time": "2022-08-06T19:44:00.959278",
     "exception": false,
     "start_time": "2022-08-06T19:44:00.944669",
     "status": "completed"
    },
    "tags": []
   },
   "source": [
    "<a id=\"1\"></a> <br>\n",
    "# 2. Import Dataset"
   ]
  },
  {
   "cell_type": "code",
   "execution_count": 3,
   "id": "11d886ab",
   "metadata": {
    "execution": {
     "iopub.execute_input": "2022-08-06T19:44:00.991113Z",
     "iopub.status.busy": "2022-08-06T19:44:00.990350Z",
     "iopub.status.idle": "2022-08-06T19:44:01.060424Z",
     "shell.execute_reply": "2022-08-06T19:44:01.059260Z"
    },
    "papermill": {
     "duration": 0.089159,
     "end_time": "2022-08-06T19:44:01.063182",
     "exception": false,
     "start_time": "2022-08-06T19:44:00.974023",
     "status": "completed"
    },
    "tags": []
   },
   "outputs": [],
   "source": [
    "df_train = pd.read_csv('/kaggle/input/nlp-getting-started/train.csv')\n",
    "df_test = pd.read_csv('/kaggle/input/nlp-getting-started/test.csv')"
   ]
  },
  {
   "cell_type": "markdown",
   "id": "041d1483",
   "metadata": {
    "papermill": {
     "duration": 0.014629,
     "end_time": "2022-08-06T19:44:01.093002",
     "exception": false,
     "start_time": "2022-08-06T19:44:01.078373",
     "status": "completed"
    },
    "tags": []
   },
   "source": [
    "<a id=\"1\"></a> <br>\n",
    "# 3. Data Preparation"
   ]
  },
  {
   "cell_type": "code",
   "execution_count": 4,
   "id": "7937a029",
   "metadata": {
    "execution": {
     "iopub.execute_input": "2022-08-06T19:44:01.124687Z",
     "iopub.status.busy": "2022-08-06T19:44:01.124260Z",
     "iopub.status.idle": "2022-08-06T19:44:01.148620Z",
     "shell.execute_reply": "2022-08-06T19:44:01.147499Z"
    },
    "papermill": {
     "duration": 0.043349,
     "end_time": "2022-08-06T19:44:01.151308",
     "exception": false,
     "start_time": "2022-08-06T19:44:01.107959",
     "status": "completed"
    },
    "tags": []
   },
   "outputs": [
    {
     "data": {
      "text/html": [
       "<div>\n",
       "<style scoped>\n",
       "    .dataframe tbody tr th:only-of-type {\n",
       "        vertical-align: middle;\n",
       "    }\n",
       "\n",
       "    .dataframe tbody tr th {\n",
       "        vertical-align: top;\n",
       "    }\n",
       "\n",
       "    .dataframe thead th {\n",
       "        text-align: right;\n",
       "    }\n",
       "</style>\n",
       "<table border=\"1\" class=\"dataframe\">\n",
       "  <thead>\n",
       "    <tr style=\"text-align: right;\">\n",
       "      <th></th>\n",
       "      <th>id</th>\n",
       "      <th>keyword</th>\n",
       "      <th>location</th>\n",
       "      <th>text</th>\n",
       "      <th>target</th>\n",
       "    </tr>\n",
       "  </thead>\n",
       "  <tbody>\n",
       "    <tr>\n",
       "      <th>2205</th>\n",
       "      <td>3159</td>\n",
       "      <td>deluge</td>\n",
       "      <td>London, England</td>\n",
       "      <td>I apologise sincerely for the inevitable delug...</td>\n",
       "      <td>0</td>\n",
       "    </tr>\n",
       "    <tr>\n",
       "      <th>6460</th>\n",
       "      <td>9242</td>\n",
       "      <td>sunk</td>\n",
       "      <td>mainly California</td>\n",
       "      <td>why wasn't this warship sunk?      CNN: First ...</td>\n",
       "      <td>1</td>\n",
       "    </tr>\n",
       "    <tr>\n",
       "      <th>4779</th>\n",
       "      <td>6800</td>\n",
       "      <td>loud%20bang</td>\n",
       "      <td>Kenya</td>\n",
       "      <td>tkyonly1fmk: Breaking news! Unconfirmed! I jus...</td>\n",
       "      <td>0</td>\n",
       "    </tr>\n",
       "    <tr>\n",
       "      <th>5299</th>\n",
       "      <td>7569</td>\n",
       "      <td>outbreak</td>\n",
       "      <td>Los Angeles, CA</td>\n",
       "      <td>Families to sue over Legionnaires: More than 4...</td>\n",
       "      <td>1</td>\n",
       "    </tr>\n",
       "    <tr>\n",
       "      <th>2004</th>\n",
       "      <td>2880</td>\n",
       "      <td>damage</td>\n",
       "      <td>Austin | San Diego</td>\n",
       "      <td>@swb1192 if the NDA is written to damage your ...</td>\n",
       "      <td>0</td>\n",
       "    </tr>\n",
       "  </tbody>\n",
       "</table>\n",
       "</div>"
      ],
      "text/plain": [
       "        id      keyword            location  \\\n",
       "2205  3159       deluge     London, England   \n",
       "6460  9242         sunk   mainly California   \n",
       "4779  6800  loud%20bang               Kenya   \n",
       "5299  7569     outbreak     Los Angeles, CA   \n",
       "2004  2880       damage  Austin | San Diego   \n",
       "\n",
       "                                                   text  target  \n",
       "2205  I apologise sincerely for the inevitable delug...       0  \n",
       "6460  why wasn't this warship sunk?      CNN: First ...       1  \n",
       "4779  tkyonly1fmk: Breaking news! Unconfirmed! I jus...       0  \n",
       "5299  Families to sue over Legionnaires: More than 4...       1  \n",
       "2004  @swb1192 if the NDA is written to damage your ...       0  "
      ]
     },
     "execution_count": 4,
     "metadata": {},
     "output_type": "execute_result"
    }
   ],
   "source": [
    "df_train.sample(5)"
   ]
  },
  {
   "cell_type": "markdown",
   "id": "94795478",
   "metadata": {
    "papermill": {
     "duration": 0.01493,
     "end_time": "2022-08-06T19:44:01.181536",
     "exception": false,
     "start_time": "2022-08-06T19:44:01.166606",
     "status": "completed"
    },
    "tags": []
   },
   "source": [
    "In This work, we only need the text of each tweet and its label target. Therefore, we will drop the rest of features:"
   ]
  },
  {
   "cell_type": "code",
   "execution_count": 5,
   "id": "12602e87",
   "metadata": {
    "execution": {
     "iopub.execute_input": "2022-08-06T19:44:01.213558Z",
     "iopub.status.busy": "2022-08-06T19:44:01.213120Z",
     "iopub.status.idle": "2022-08-06T19:44:01.226580Z",
     "shell.execute_reply": "2022-08-06T19:44:01.225418Z"
    },
    "papermill": {
     "duration": 0.032389,
     "end_time": "2022-08-06T19:44:01.228939",
     "exception": false,
     "start_time": "2022-08-06T19:44:01.196550",
     "status": "completed"
    },
    "tags": []
   },
   "outputs": [],
   "source": [
    "df_train.drop(['id','keyword','location'],axis=1,inplace=True)\n",
    "df_test.drop(['keyword','location'],axis=1,inplace=True)"
   ]
  },
  {
   "cell_type": "code",
   "execution_count": 6,
   "id": "262f4764",
   "metadata": {
    "execution": {
     "iopub.execute_input": "2022-08-06T19:44:01.262188Z",
     "iopub.status.busy": "2022-08-06T19:44:01.261732Z",
     "iopub.status.idle": "2022-08-06T19:44:01.273393Z",
     "shell.execute_reply": "2022-08-06T19:44:01.272190Z"
    },
    "papermill": {
     "duration": 0.031336,
     "end_time": "2022-08-06T19:44:01.275602",
     "exception": false,
     "start_time": "2022-08-06T19:44:01.244266",
     "status": "completed"
    },
    "tags": []
   },
   "outputs": [
    {
     "data": {
      "text/html": [
       "<div>\n",
       "<style scoped>\n",
       "    .dataframe tbody tr th:only-of-type {\n",
       "        vertical-align: middle;\n",
       "    }\n",
       "\n",
       "    .dataframe tbody tr th {\n",
       "        vertical-align: top;\n",
       "    }\n",
       "\n",
       "    .dataframe thead th {\n",
       "        text-align: right;\n",
       "    }\n",
       "</style>\n",
       "<table border=\"1\" class=\"dataframe\">\n",
       "  <thead>\n",
       "    <tr style=\"text-align: right;\">\n",
       "      <th></th>\n",
       "      <th>text</th>\n",
       "      <th>target</th>\n",
       "    </tr>\n",
       "  </thead>\n",
       "  <tbody>\n",
       "    <tr>\n",
       "      <th>5985</th>\n",
       "      <td>When you on the phone and @Worstoverdose screa...</td>\n",
       "      <td>0</td>\n",
       "    </tr>\n",
       "    <tr>\n",
       "      <th>56</th>\n",
       "      <td>TRUCK ABLAZE : R21. VOORTREKKER AVE. OUTSIDE O...</td>\n",
       "      <td>1</td>\n",
       "    </tr>\n",
       "    <tr>\n",
       "      <th>1102</th>\n",
       "      <td>70 years ago at this hour the USA A-bombed Hir...</td>\n",
       "      <td>1</td>\n",
       "    </tr>\n",
       "    <tr>\n",
       "      <th>216</th>\n",
       "      <td>*to Luka* They should all die! All of them! Ev...</td>\n",
       "      <td>0</td>\n",
       "    </tr>\n",
       "    <tr>\n",
       "      <th>4680</th>\n",
       "      <td>@MartinMJ22 @YouGov When did a 12 seat majorit...</td>\n",
       "      <td>1</td>\n",
       "    </tr>\n",
       "  </tbody>\n",
       "</table>\n",
       "</div>"
      ],
      "text/plain": [
       "                                                   text  target\n",
       "5985  When you on the phone and @Worstoverdose screa...       0\n",
       "56    TRUCK ABLAZE : R21. VOORTREKKER AVE. OUTSIDE O...       1\n",
       "1102  70 years ago at this hour the USA A-bombed Hir...       1\n",
       "216   *to Luka* They should all die! All of them! Ev...       0\n",
       "4680  @MartinMJ22 @YouGov When did a 12 seat majorit...       1"
      ]
     },
     "execution_count": 6,
     "metadata": {},
     "output_type": "execute_result"
    }
   ],
   "source": [
    "df_train.sample(5)"
   ]
  },
  {
   "cell_type": "markdown",
   "id": "aa9b305d",
   "metadata": {
    "papermill": {
     "duration": 0.014873,
     "end_time": "2022-08-06T19:44:01.305723",
     "exception": false,
     "start_time": "2022-08-06T19:44:01.290850",
     "status": "completed"
    },
    "tags": []
   },
   "source": [
    "We can create a column length in train_data, which will have length of each text."
   ]
  },
  {
   "cell_type": "code",
   "execution_count": 7,
   "id": "e55c0687",
   "metadata": {
    "execution": {
     "iopub.execute_input": "2022-08-06T19:44:01.337947Z",
     "iopub.status.busy": "2022-08-06T19:44:01.337509Z",
     "iopub.status.idle": "2022-08-06T19:44:01.517572Z",
     "shell.execute_reply": "2022-08-06T19:44:01.516469Z"
    },
    "papermill": {
     "duration": 0.199219,
     "end_time": "2022-08-06T19:44:01.520119",
     "exception": false,
     "start_time": "2022-08-06T19:44:01.320900",
     "status": "completed"
    },
    "tags": []
   },
   "outputs": [
    {
     "data": {
      "text/plain": [
       "<AxesSubplot:xlabel='target', ylabel='count'>"
      ]
     },
     "execution_count": 7,
     "metadata": {},
     "output_type": "execute_result"
    },
    {
     "data": {
      "image/png": "[encoded data removed]",
      "text/plain": [
       "<Figure size 576x288 with 1 Axes>"
      ]
     },
     "metadata": {
      "needs_background": "light"
     },
     "output_type": "display_data"
    }
   ],
   "source": [
    "plt.figure(figsize=(8,4))\n",
    "sns.countplot(data = df_train, x = 'target')"
   ]
  },
  {
   "cell_type": "code",
   "execution_count": 8,
   "id": "45e0a93a",
   "metadata": {
    "execution": {
     "iopub.execute_input": "2022-08-06T19:44:01.553516Z",
     "iopub.status.busy": "2022-08-06T19:44:01.552834Z",
     "iopub.status.idle": "2022-08-06T19:44:01.567622Z",
     "shell.execute_reply": "2022-08-06T19:44:01.566585Z"
    },
    "papermill": {
     "duration": 0.033822,
     "end_time": "2022-08-06T19:44:01.569789",
     "exception": false,
     "start_time": "2022-08-06T19:44:01.535967",
     "status": "completed"
    },
    "tags": []
   },
   "outputs": [
    {
     "data": {
      "text/html": [
       "<div>\n",
       "<style scoped>\n",
       "    .dataframe tbody tr th:only-of-type {\n",
       "        vertical-align: middle;\n",
       "    }\n",
       "\n",
       "    .dataframe tbody tr th {\n",
       "        vertical-align: top;\n",
       "    }\n",
       "\n",
       "    .dataframe thead th {\n",
       "        text-align: right;\n",
       "    }\n",
       "</style>\n",
       "<table border=\"1\" class=\"dataframe\">\n",
       "  <thead>\n",
       "    <tr style=\"text-align: right;\">\n",
       "      <th></th>\n",
       "      <th>text</th>\n",
       "      <th>target</th>\n",
       "      <th>length</th>\n",
       "    </tr>\n",
       "  </thead>\n",
       "  <tbody>\n",
       "    <tr>\n",
       "      <th>0</th>\n",
       "      <td>Our Deeds are the Reason of this #earthquake M...</td>\n",
       "      <td>1</td>\n",
       "      <td>69</td>\n",
       "    </tr>\n",
       "    <tr>\n",
       "      <th>1</th>\n",
       "      <td>Forest fire near La Ronge Sask. Canada</td>\n",
       "      <td>1</td>\n",
       "      <td>38</td>\n",
       "    </tr>\n",
       "    <tr>\n",
       "      <th>2</th>\n",
       "      <td>All residents asked to 'shelter in place' are ...</td>\n",
       "      <td>1</td>\n",
       "      <td>133</td>\n",
       "    </tr>\n",
       "    <tr>\n",
       "      <th>3</th>\n",
       "      <td>13,000 people receive #wildfires evacuation or...</td>\n",
       "      <td>1</td>\n",
       "      <td>65</td>\n",
       "    </tr>\n",
       "    <tr>\n",
       "      <th>4</th>\n",
       "      <td>Just got sent this photo from Ruby #Alaska as ...</td>\n",
       "      <td>1</td>\n",
       "      <td>88</td>\n",
       "    </tr>\n",
       "  </tbody>\n",
       "</table>\n",
       "</div>"
      ],
      "text/plain": [
       "                                                text  target  length\n",
       "0  Our Deeds are the Reason of this #earthquake M...       1      69\n",
       "1             Forest fire near La Ronge Sask. Canada       1      38\n",
       "2  All residents asked to 'shelter in place' are ...       1     133\n",
       "3  13,000 people receive #wildfires evacuation or...       1      65\n",
       "4  Just got sent this photo from Ruby #Alaska as ...       1      88"
      ]
     },
     "execution_count": 8,
     "metadata": {},
     "output_type": "execute_result"
    }
   ],
   "source": [
    "df_train['length'] = df_train['text'].apply(len)\n",
    "df_train.head()"
   ]
  },
  {
   "cell_type": "code",
   "execution_count": 9,
   "id": "d15ddba1",
   "metadata": {
    "execution": {
     "iopub.execute_input": "2022-08-06T19:44:01.603200Z",
     "iopub.status.busy": "2022-08-06T19:44:01.602823Z",
     "iopub.status.idle": "2022-08-06T19:44:01.614351Z",
     "shell.execute_reply": "2022-08-06T19:44:01.613435Z"
    },
    "papermill": {
     "duration": 0.03096,
     "end_time": "2022-08-06T19:44:01.616545",
     "exception": false,
     "start_time": "2022-08-06T19:44:01.585585",
     "status": "completed"
    },
    "tags": []
   },
   "outputs": [
    {
     "data": {
      "text/plain": [
       "count    7613.000000\n",
       "mean      101.037436\n",
       "std        33.781325\n",
       "min         7.000000\n",
       "25%        78.000000\n",
       "50%       107.000000\n",
       "75%       133.000000\n",
       "max       157.000000\n",
       "Name: length, dtype: float64"
      ]
     },
     "execution_count": 9,
     "metadata": {},
     "output_type": "execute_result"
    }
   ],
   "source": [
    "df_train['length'].describe()"
   ]
  },
  {
   "cell_type": "code",
   "execution_count": 10,
   "id": "1308f98d",
   "metadata": {
    "execution": {
     "iopub.execute_input": "2022-08-06T19:44:01.650207Z",
     "iopub.status.busy": "2022-08-06T19:44:01.649387Z",
     "iopub.status.idle": "2022-08-06T19:44:01.657772Z",
     "shell.execute_reply": "2022-08-06T19:44:01.656953Z"
    },
    "papermill": {
     "duration": 0.027449,
     "end_time": "2022-08-06T19:44:01.659832",
     "exception": false,
     "start_time": "2022-08-06T19:44:01.632383",
     "status": "completed"
    },
    "tags": []
   },
   "outputs": [
    {
     "data": {
      "text/plain": [
       "\"when you're taking a shower and someone flushes the toilet and you have .1 second to GTFO or you get burned??????????????????????????????????????????????????\""
      ]
     },
     "execution_count": 10,
     "metadata": {},
     "output_type": "execute_result"
    }
   ],
   "source": [
    "df_train[df_train['length']==157].text.iloc[0]"
   ]
  },
  {
   "cell_type": "markdown",
   "id": "1b9b3589",
   "metadata": {
    "papermill": {
     "duration": 0.015614,
     "end_time": "2022-08-06T19:44:01.691404",
     "exception": false,
     "start_time": "2022-08-06T19:44:01.675790",
     "status": "completed"
    },
    "tags": []
   },
   "source": [
    "Here the maximum length word is having repeated punctuations. So the important information delivered is very less."
   ]
  },
  {
   "cell_type": "code",
   "execution_count": 11,
   "id": "ec8bf85e",
   "metadata": {
    "execution": {
     "iopub.execute_input": "2022-08-06T19:44:01.725094Z",
     "iopub.status.busy": "2022-08-06T19:44:01.724551Z",
     "iopub.status.idle": "2022-08-06T19:44:02.019853Z",
     "shell.execute_reply": "2022-08-06T19:44:02.019007Z"
    },
    "papermill": {
     "duration": 0.314691,
     "end_time": "2022-08-06T19:44:02.022007",
     "exception": false,
     "start_time": "2022-08-06T19:44:01.707316",
     "status": "completed"
    },
    "tags": []
   },
   "outputs": [
    {
     "data": {
      "image/png": "[encoded data removed]",
      "text/plain": [
       "<Figure size 576x288 with 1 Axes>"
      ]
     },
     "metadata": {
      "needs_background": "light"
     },
     "output_type": "display_data"
    }
   ],
   "source": [
    "#Plotting tweets length\n",
    "plt.figure(figsize=(8,4))\n",
    "sns.histplot(data = df_train, x ='length',kde=True, bins=30)\n",
    "plt.title('Length of tweets')\n",
    "plt.xlabel(\"Number of Characters\")\n",
    "plt.ylabel(\"Density\")\n",
    "plt.show()"
   ]
  },
  {
   "cell_type": "markdown",
   "id": "ed276472",
   "metadata": {
    "papermill": {
     "duration": 0.016753,
     "end_time": "2022-08-06T19:44:02.055476",
     "exception": false,
     "start_time": "2022-08-06T19:44:02.038723",
     "status": "completed"
    },
    "tags": []
   },
   "source": [
    "**Removing Punctuations:**"
   ]
  },
  {
   "cell_type": "code",
   "execution_count": 12,
   "id": "5333bef7",
   "metadata": {
    "execution": {
     "iopub.execute_input": "2022-08-06T19:44:02.090352Z",
     "iopub.status.busy": "2022-08-06T19:44:02.089899Z",
     "iopub.status.idle": "2022-08-06T19:44:02.096436Z",
     "shell.execute_reply": "2022-08-06T19:44:02.095363Z"
    },
    "papermill": {
     "duration": 0.02667,
     "end_time": "2022-08-06T19:44:02.098657",
     "exception": false,
     "start_time": "2022-08-06T19:44:02.071987",
     "status": "completed"
    },
    "tags": []
   },
   "outputs": [
    {
     "data": {
      "text/plain": [
       "'!\"#$%&\\'()*+,-./:;<=>?@[\\\\]^_`{|}~'"
      ]
     },
     "execution_count": 12,
     "metadata": {},
     "output_type": "execute_result"
    }
   ],
   "source": [
    "# string.punctuation will give the punctuations.\n",
    "string.punctuation"
   ]
  },
  {
   "cell_type": "markdown",
   "id": "65806412",
   "metadata": {
    "papermill": {
     "duration": 0.016245,
     "end_time": "2022-08-06T19:44:02.131362",
     "exception": false,
     "start_time": "2022-08-06T19:44:02.115117",
     "status": "completed"
    },
    "tags": []
   },
   "source": [
    "We can create a function 'clean_text' to remove punctuations, and then it can used to clean text column of training data."
   ]
  },
  {
   "cell_type": "code",
   "execution_count": 13,
   "id": "43e9f866",
   "metadata": {
    "execution": {
     "iopub.execute_input": "2022-08-06T19:44:02.166114Z",
     "iopub.status.busy": "2022-08-06T19:44:02.165681Z",
     "iopub.status.idle": "2022-08-06T19:44:02.171079Z",
     "shell.execute_reply": "2022-08-06T19:44:02.170277Z"
    },
    "papermill": {
     "duration": 0.02518,
     "end_time": "2022-08-06T19:44:02.173028",
     "exception": false,
     "start_time": "2022-08-06T19:44:02.147848",
     "status": "completed"
    },
    "tags": []
   },
   "outputs": [],
   "source": [
    "def clean_text(text):\n",
    "    clean_text = [char for char in text if char not in string.punctuation]\n",
    "    clean_text = ''.join(clean_text)\n",
    "    return clean_text "
   ]
  },
  {
   "cell_type": "markdown",
   "id": "e73cda77",
   "metadata": {
    "papermill": {
     "duration": 0.016213,
     "end_time": "2022-08-06T19:44:02.205928",
     "exception": false,
     "start_time": "2022-08-06T19:44:02.189715",
     "status": "completed"
    },
    "tags": []
   },
   "source": [
    "Function 'clean_text', will remove punctuations in a text. Now we apply it to training data and create a column clean_text for the training data, which will have text without puntuations."
   ]
  },
  {
   "cell_type": "code",
   "execution_count": 14,
   "id": "bcac84c6",
   "metadata": {
    "execution": {
     "iopub.execute_input": "2022-08-06T19:44:02.241065Z",
     "iopub.status.busy": "2022-08-06T19:44:02.240348Z",
     "iopub.status.idle": "2022-08-06T19:44:02.355428Z",
     "shell.execute_reply": "2022-08-06T19:44:02.354184Z"
    },
    "papermill": {
     "duration": 0.135812,
     "end_time": "2022-08-06T19:44:02.358200",
     "exception": false,
     "start_time": "2022-08-06T19:44:02.222388",
     "status": "completed"
    },
    "tags": []
   },
   "outputs": [],
   "source": [
    "df_train['clean_text'] = df_train['text'].apply(clean_text)"
   ]
  },
  {
   "cell_type": "code",
   "execution_count": 15,
   "id": "162d9a5e",
   "metadata": {
    "execution": {
     "iopub.execute_input": "2022-08-06T19:44:02.393269Z",
     "iopub.status.busy": "2022-08-06T19:44:02.392811Z",
     "iopub.status.idle": "2022-08-06T19:44:02.404805Z",
     "shell.execute_reply": "2022-08-06T19:44:02.403638Z"
    },
    "papermill": {
     "duration": 0.032129,
     "end_time": "2022-08-06T19:44:02.407049",
     "exception": false,
     "start_time": "2022-08-06T19:44:02.374920",
     "status": "completed"
    },
    "tags": []
   },
   "outputs": [
    {
     "data": {
      "text/html": [
       "<div>\n",
       "<style scoped>\n",
       "    .dataframe tbody tr th:only-of-type {\n",
       "        vertical-align: middle;\n",
       "    }\n",
       "\n",
       "    .dataframe tbody tr th {\n",
       "        vertical-align: top;\n",
       "    }\n",
       "\n",
       "    .dataframe thead th {\n",
       "        text-align: right;\n",
       "    }\n",
       "</style>\n",
       "<table border=\"1\" class=\"dataframe\">\n",
       "  <thead>\n",
       "    <tr style=\"text-align: right;\">\n",
       "      <th></th>\n",
       "      <th>text</th>\n",
       "      <th>target</th>\n",
       "      <th>length</th>\n",
       "      <th>clean_text</th>\n",
       "    </tr>\n",
       "  </thead>\n",
       "  <tbody>\n",
       "    <tr>\n",
       "      <th>0</th>\n",
       "      <td>Our Deeds are the Reason of this #earthquake M...</td>\n",
       "      <td>1</td>\n",
       "      <td>69</td>\n",
       "      <td>Our Deeds are the Reason of this earthquake Ma...</td>\n",
       "    </tr>\n",
       "    <tr>\n",
       "      <th>1</th>\n",
       "      <td>Forest fire near La Ronge Sask. Canada</td>\n",
       "      <td>1</td>\n",
       "      <td>38</td>\n",
       "      <td>Forest fire near La Ronge Sask Canada</td>\n",
       "    </tr>\n",
       "    <tr>\n",
       "      <th>2</th>\n",
       "      <td>All residents asked to 'shelter in place' are ...</td>\n",
       "      <td>1</td>\n",
       "      <td>133</td>\n",
       "      <td>All residents asked to shelter in place are be...</td>\n",
       "    </tr>\n",
       "    <tr>\n",
       "      <th>3</th>\n",
       "      <td>13,000 people receive #wildfires evacuation or...</td>\n",
       "      <td>1</td>\n",
       "      <td>65</td>\n",
       "      <td>13000 people receive wildfires evacuation orde...</td>\n",
       "    </tr>\n",
       "    <tr>\n",
       "      <th>4</th>\n",
       "      <td>Just got sent this photo from Ruby #Alaska as ...</td>\n",
       "      <td>1</td>\n",
       "      <td>88</td>\n",
       "      <td>Just got sent this photo from Ruby Alaska as s...</td>\n",
       "    </tr>\n",
       "  </tbody>\n",
       "</table>\n",
       "</div>"
      ],
      "text/plain": [
       "                                                text  target  length  \\\n",
       "0  Our Deeds are the Reason of this #earthquake M...       1      69   \n",
       "1             Forest fire near La Ronge Sask. Canada       1      38   \n",
       "2  All residents asked to 'shelter in place' are ...       1     133   \n",
       "3  13,000 people receive #wildfires evacuation or...       1      65   \n",
       "4  Just got sent this photo from Ruby #Alaska as ...       1      88   \n",
       "\n",
       "                                          clean_text  \n",
       "0  Our Deeds are the Reason of this earthquake Ma...  \n",
       "1              Forest fire near La Ronge Sask Canada  \n",
       "2  All residents asked to shelter in place are be...  \n",
       "3  13000 people receive wildfires evacuation orde...  \n",
       "4  Just got sent this photo from Ruby Alaska as s...  "
      ]
     },
     "execution_count": 15,
     "metadata": {},
     "output_type": "execute_result"
    }
   ],
   "source": [
    "df_train.head()"
   ]
  },
  {
   "cell_type": "code",
   "execution_count": 16,
   "id": "4eabf9be",
   "metadata": {
    "execution": {
     "iopub.execute_input": "2022-08-06T19:44:02.442300Z",
     "iopub.status.busy": "2022-08-06T19:44:02.441835Z",
     "iopub.status.idle": "2022-08-06T19:44:02.450106Z",
     "shell.execute_reply": "2022-08-06T19:44:02.448890Z"
    },
    "papermill": {
     "duration": 0.028719,
     "end_time": "2022-08-06T19:44:02.452588",
     "exception": false,
     "start_time": "2022-08-06T19:44:02.423869",
     "status": "completed"
    },
    "tags": []
   },
   "outputs": [
    {
     "data": {
      "text/plain": [
       "\"when you're taking a shower and someone flushes the toilet and you have .1 second to GTFO or you get burned??????????????????????????????????????????????????\""
      ]
     },
     "execution_count": 16,
     "metadata": {},
     "output_type": "execute_result"
    }
   ],
   "source": [
    "#without apply 'clean_text function:\n",
    "df_train.loc[1270,'text']"
   ]
  },
  {
   "cell_type": "code",
   "execution_count": 17,
   "id": "a0e33510",
   "metadata": {
    "execution": {
     "iopub.execute_input": "2022-08-06T19:44:02.488457Z",
     "iopub.status.busy": "2022-08-06T19:44:02.487633Z",
     "iopub.status.idle": "2022-08-06T19:44:02.494679Z",
     "shell.execute_reply": "2022-08-06T19:44:02.493787Z"
    },
    "papermill": {
     "duration": 0.027278,
     "end_time": "2022-08-06T19:44:02.496673",
     "exception": false,
     "start_time": "2022-08-06T19:44:02.469395",
     "status": "completed"
    },
    "tags": []
   },
   "outputs": [
    {
     "data": {
      "text/plain": [
       "'when youre taking a shower and someone flushes the toilet and you have 1 second to GTFO or you get burned'"
      ]
     },
     "execution_count": 17,
     "metadata": {},
     "output_type": "execute_result"
    }
   ],
   "source": [
    "#after apply 'clean_text function:\n",
    "df_train.loc[1270,'clean_text']"
   ]
  },
  {
   "cell_type": "markdown",
   "id": "5dcc7320",
   "metadata": {
    "papermill": {
     "duration": 0.016527,
     "end_time": "2022-08-06T19:44:02.530259",
     "exception": false,
     "start_time": "2022-08-06T19:44:02.513732",
     "status": "completed"
    },
    "tags": []
   },
   "source": [
    "**Removing Noise:**"
   ]
  },
  {
   "cell_type": "markdown",
   "id": "6dbe6d14",
   "metadata": {
    "papermill": {
     "duration": 0.016518,
     "end_time": "2022-08-06T19:44:02.563559",
     "exception": false,
     "start_time": "2022-08-06T19:44:02.547041",
     "status": "completed"
    },
    "tags": []
   },
   "source": [
    "Noise in a text can be considered as anything which does belong to normal human language interaction.\n",
    "\n",
    "Noise in the text can generally be considered as URL, abbreviations, emojis, message inside HTML tag, etc. Punctuations can also be considered as noise. But here we have already removed punctuations.\n",
    "\n",
    "The main reason why abbreviations are included as noise is that some people write thx for thankyou. If abbreviations are not replaced with the original word, 'thx' and 'thankyou' will be considered as two different words.\n"
   ]
  },
  {
   "cell_type": "code",
   "execution_count": 18,
   "id": "9c0210a2",
   "metadata": {
    "_kg_hide-input": false,
    "_kg_hide-output": false,
    "execution": {
     "iopub.execute_input": "2022-08-06T19:44:02.599944Z",
     "iopub.status.busy": "2022-08-06T19:44:02.599512Z",
     "iopub.status.idle": "2022-08-06T19:44:02.626104Z",
     "shell.execute_reply": "2022-08-06T19:44:02.624928Z"
    },
    "papermill": {
     "duration": 0.048295,
     "end_time": "2022-08-06T19:44:02.628573",
     "exception": false,
     "start_time": "2022-08-06T19:44:02.580278",
     "status": "completed"
    },
    "tags": []
   },
   "outputs": [],
   "source": [
    "abbreviations = {\n",
    "    \"$\" : \" dollar \",\n",
    "    \"€\" : \" euro \",\n",
    "    \"4ao\" : \"for adults only\",\n",
    "    \"a.m\" : \"before midday\",\n",
    "    \"a3\" : \"anytime anywhere anyplace\",\n",
    "    \"aamof\" : \"as a matter of fact\",\n",
    "    \"acct\" : \"account\",\n",
    "    \"adih\" : \"another day in hell\",\n",
    "    \"afaic\" : \"as far as i am concerned\",\n",
    "    \"afaict\" : \"as far as i can tell\",\n",
    "    \"afaik\" : \"as far as i know\",\n",
    "    \"afair\" : \"as far as i remember\",\n",
    "    \"afk\" : \"away from keyboard\",\n",
    "    \"app\" : \"application\",\n",
    "    \"approx\" : \"approximately\",\n",
    "    \"apps\" : \"applications\",\n",
    "    \"asap\" : \"as soon as possible\",\n",
    "    \"asl\" : \"age, sex, location\",\n",
    "    \"atk\" : \"at the keyboard\",\n",
    "    \"ave.\" : \"avenue\",\n",
    "    \"aymm\" : \"are you my mother\",\n",
    "    \"ayor\" : \"at your own risk\", \n",
    "    \"b&b\" : \"bed and breakfast\",\n",
    "    \"b+b\" : \"bed and breakfast\",\n",
    "    \"b.c\" : \"before christ\",\n",
    "    \"b2b\" : \"business to business\",\n",
    "    \"b2c\" : \"business to customer\",\n",
    "    \"b4\" : \"before\",\n",
    "    \"b4n\" : \"bye for now\",\n",
    "    \"b@u\" : \"back at you\",\n",
    "    \"bae\" : \"before anyone else\",\n",
    "    \"bak\" : \"back at keyboard\",\n",
    "    \"bbbg\" : \"bye bye be good\",\n",
    "    \"bbc\" : \"british broadcasting corporation\",\n",
    "    \"bbias\" : \"be back in a second\",\n",
    "    \"bbl\" : \"be back later\",\n",
    "    \"bbs\" : \"be back soon\",\n",
    "    \"be4\" : \"before\",\n",
    "    \"bfn\" : \"bye for now\",\n",
    "    \"blvd\" : \"boulevard\",\n",
    "    \"bout\" : \"about\",\n",
    "    \"brb\" : \"be right back\",\n",
    "    \"bros\" : \"brothers\",\n",
    "    \"brt\" : \"be right there\",\n",
    "    \"bsaaw\" : \"big smile and a wink\",\n",
    "    \"btw\" : \"by the way\",\n",
    "    \"bwl\" : \"bursting with laughter\",\n",
    "    \"c/o\" : \"care of\",\n",
    "    \"cet\" : \"central european time\",\n",
    "    \"cf\" : \"compare\",\n",
    "    \"cia\" : \"central intelligence agency\",\n",
    "    \"csl\" : \"can not stop laughing\",\n",
    "    \"cu\" : \"see you\",\n",
    "    \"cul8r\" : \"see you later\",\n",
    "    \"cv\" : \"curriculum vitae\",\n",
    "    \"cwot\" : \"complete waste of time\",\n",
    "    \"cya\" : \"see you\",\n",
    "    \"cyt\" : \"see you tomorrow\",\n",
    "    \"dae\" : \"does anyone else\",\n",
    "    \"dbmib\" : \"do not bother me i am busy\",\n",
    "    \"diy\" : \"do it yourself\",\n",
    "    \"dm\" : \"direct message\",\n",
    "    \"dwh\" : \"during work hours\",\n",
    "    \"e123\" : \"easy as one two three\",\n",
    "    \"eet\" : \"eastern european time\",\n",
    "    \"eg\" : \"example\",\n",
    "    \"embm\" : \"early morning business meeting\",\n",
    "    \"encl\" : \"enclosed\",\n",
    "    \"encl.\" : \"enclosed\",\n",
    "    \"etc\" : \"and so on\",\n",
    "    \"faq\" : \"frequently asked questions\",\n",
    "    \"fawc\" : \"for anyone who cares\",\n",
    "    \"fb\" : \"facebook\",\n",
    "    \"fc\" : \"fingers crossed\",\n",
    "    \"fig\" : \"figure\",\n",
    "    \"fimh\" : \"forever in my heart\", \n",
    "    \"ft.\" : \"feet\",\n",
    "    \"ft\" : \"featuring\",\n",
    "    \"ftl\" : \"for the loss\",\n",
    "    \"ftw\" : \"for the win\",\n",
    "    \"fwiw\" : \"for what it is worth\",\n",
    "    \"fyi\" : \"for your information\",\n",
    "    \"g9\" : \"genius\",\n",
    "    \"gahoy\" : \"get a hold of yourself\",\n",
    "    \"gal\" : \"get a life\",\n",
    "    \"gcse\" : \"general certificate of secondary education\",\n",
    "    \"gfn\" : \"gone for now\",\n",
    "    \"gg\" : \"good game\",\n",
    "    \"gl\" : \"good luck\",\n",
    "    \"glhf\" : \"good luck have fun\",\n",
    "    \"gmt\" : \"greenwich mean time\",\n",
    "    \"gmta\" : \"great minds think alike\",\n",
    "    \"gn\" : \"good night\",\n",
    "    \"g.o.a.t\" : \"greatest of all time\",\n",
    "    \"goat\" : \"greatest of all time\",\n",
    "    \"goi\" : \"get over it\",\n",
    "    \"gps\" : \"global positioning system\",\n",
    "    \"gr8\" : \"great\",\n",
    "    \"gratz\" : \"congratulations\",\n",
    "    \"gyal\" : \"girl\",\n",
    "    \"h&c\" : \"hot and cold\",\n",
    "    \"hp\" : \"horsepower\",\n",
    "    \"hr\" : \"hour\",\n",
    "    \"hrh\" : \"his royal highness\",\n",
    "    \"ht\" : \"height\",\n",
    "    \"ibrb\" : \"i will be right back\",\n",
    "    \"ic\" : \"i see\",\n",
    "    \"icq\" : \"i seek you\",\n",
    "    \"icymi\" : \"in case you missed it\",\n",
    "    \"idc\" : \"i do not care\",\n",
    "    \"idgadf\" : \"i do not give a damn fuck\",\n",
    "    \"idgaf\" : \"i do not give a fuck\",\n",
    "    \"idk\" : \"i do not know\",\n",
    "    \"ie\" : \"that is\",\n",
    "    \"i.e\" : \"that is\",\n",
    "    \"ifyp\" : \"i feel your pain\",\n",
    "    \"IG\" : \"instagram\",\n",
    "    \"iirc\" : \"if i remember correctly\",\n",
    "    \"ilu\" : \"i love you\",\n",
    "    \"ily\" : \"i love you\",\n",
    "    \"imho\" : \"in my humble opinion\",\n",
    "    \"imo\" : \"in my opinion\",\n",
    "    \"imu\" : \"i miss you\",\n",
    "    \"iow\" : \"in other words\",\n",
    "    \"irl\" : \"in real life\",\n",
    "    \"j4f\" : \"just for fun\",\n",
    "    \"jic\" : \"just in case\",\n",
    "    \"jk\" : \"just kidding\",\n",
    "    \"jsyk\" : \"just so you know\",\n",
    "    \"l8r\" : \"later\",\n",
    "    \"lb\" : \"pound\",\n",
    "    \"lbs\" : \"pounds\",\n",
    "    \"ldr\" : \"long distance relationship\",\n",
    "    \"lmao\" : \"laugh my ass off\",\n",
    "    \"lmfao\" : \"laugh my fucking ass off\",\n",
    "    \"lol\" : \"laughing out loud\",\n",
    "    \"ltd\" : \"limited\",\n",
    "    \"ltns\" : \"long time no see\",\n",
    "    \"m8\" : \"mate\",\n",
    "    \"mf\" : \"motherfucker\",\n",
    "    \"mfs\" : \"motherfuckers\",\n",
    "    \"mfw\" : \"my face when\",\n",
    "    \"mofo\" : \"motherfucker\",\n",
    "    \"mph\" : \"miles per hour\",\n",
    "    \"mr\" : \"mister\",\n",
    "    \"mrw\" : \"my reaction when\",\n",
    "    \"ms\" : \"miss\",\n",
    "    \"mte\" : \"my thoughts exactly\",\n",
    "    \"nagi\" : \"not a good idea\",\n",
    "    \"nbc\" : \"national broadcasting company\",\n",
    "    \"nbd\" : \"not big deal\",\n",
    "    \"nfs\" : \"not for sale\",\n",
    "    \"ngl\" : \"not going to lie\",\n",
    "    \"nhs\" : \"national health service\",\n",
    "    \"nrn\" : \"no reply necessary\",\n",
    "    \"nsfl\" : \"not safe for life\",\n",
    "    \"nsfw\" : \"not safe for work\",\n",
    "    \"nth\" : \"nice to have\",\n",
    "    \"nvr\" : \"never\",\n",
    "    \"nyc\" : \"new york city\",\n",
    "    \"oc\" : \"original content\",\n",
    "    \"og\" : \"original\",\n",
    "    \"ohp\" : \"overhead projector\",\n",
    "    \"oic\" : \"oh i see\",\n",
    "    \"omdb\" : \"over my dead body\",\n",
    "    \"omg\" : \"oh my god\",\n",
    "    \"omw\" : \"on my way\",\n",
    "    \"p.a\" : \"per annum\",\n",
    "    \"p.m\" : \"after midday\",\n",
    "    \"pm\" : \"prime minister\",\n",
    "    \"poc\" : \"people of color\",\n",
    "    \"pov\" : \"point of view\",\n",
    "    \"pp\" : \"pages\",\n",
    "    \"ppl\" : \"people\",\n",
    "    \"prw\" : \"parents are watching\",\n",
    "    \"ps\" : \"postscript\",\n",
    "    \"pt\" : \"point\",\n",
    "    \"ptb\" : \"please text back\",\n",
    "    \"pto\" : \"please turn over\",\n",
    "    \"qpsa\" : \"what happens\",\n",
    "    \"ratchet\" : \"rude\",\n",
    "    \"rbtl\" : \"read between the lines\",\n",
    "    \"rlrt\" : \"real life retweet\", \n",
    "    \"rofl\" : \"rolling on the floor laughing\",\n",
    "    \"roflol\" : \"rolling on the floor laughing out loud\",\n",
    "    \"rotflmao\" : \"rolling on the floor laughing my ass off\",\n",
    "    \"rt\" : \"retweet\",\n",
    "    \"ruok\" : \"are you ok\",\n",
    "    \"sfw\" : \"safe for work\",\n",
    "    \"sk8\" : \"skate\",\n",
    "    \"smh\" : \"shake my head\",\n",
    "    \"sq\" : \"square\",\n",
    "    \"srsly\" : \"seriously\", \n",
    "    \"ssdd\" : \"same stuff different day\",\n",
    "    \"tbh\" : \"to be honest\",\n",
    "    \"tbs\" : \"tablespooful\",\n",
    "    \"tbsp\" : \"tablespooful\",\n",
    "    \"tfw\" : \"that feeling when\",\n",
    "    \"thks\" : \"thank you\",\n",
    "    \"tho\" : \"though\",\n",
    "    \"thx\" : \"thank you\",\n",
    "    \"tia\" : \"thanks in advance\",\n",
    "    \"til\" : \"today i learned\",\n",
    "    \"tl;dr\" : \"too long i did not read\",\n",
    "    \"tldr\" : \"too long i did not read\",\n",
    "    \"tmb\" : \"tweet me back\",\n",
    "    \"tntl\" : \"trying not to laugh\",\n",
    "    \"ttyl\" : \"talk to you later\",\n",
    "    \"u\" : \"you\",\n",
    "    \"u2\" : \"you too\",\n",
    "    \"u4e\" : \"yours for ever\",\n",
    "    \"utc\" : \"coordinated universal time\",\n",
    "    \"w/\" : \"with\",\n",
    "    \"w/o\" : \"without\",\n",
    "    \"w8\" : \"wait\",\n",
    "    \"wassup\" : \"what is up\",\n",
    "    \"wb\" : \"welcome back\",\n",
    "    \"wtf\" : \"what the fuck\",\n",
    "    \"wtg\" : \"way to go\",\n",
    "    \"wtpa\" : \"where the party at\",\n",
    "    \"wuf\" : \"where are you from\",\n",
    "    \"wuzup\" : \"what is up\",\n",
    "    \"wywh\" : \"wish you were here\",\n",
    "    \"yd\" : \"yard\",\n",
    "    \"ygtr\" : \"you got that right\",\n",
    "    \"ynk\" : \"you never know\",\n",
    "    \"zzz\" : \"sleeping bored and tired\"\n",
    "}"
   ]
  },
  {
   "cell_type": "code",
   "execution_count": 19,
   "id": "62f01aff",
   "metadata": {
    "execution": {
     "iopub.execute_input": "2022-08-06T19:44:02.664240Z",
     "iopub.status.busy": "2022-08-06T19:44:02.663812Z",
     "iopub.status.idle": "2022-08-06T19:44:02.676785Z",
     "shell.execute_reply": "2022-08-06T19:44:02.675674Z"
    },
    "papermill": {
     "duration": 0.033428,
     "end_time": "2022-08-06T19:44:02.678897",
     "exception": false,
     "start_time": "2022-08-06T19:44:02.645469",
     "status": "completed"
    },
    "tags": []
   },
   "outputs": [],
   "source": [
    "# Remove all URLs, replace by URL\n",
    "def remove_URL(text):\n",
    "    url = re.compile(r'https?://\\S+|www\\.\\S+')\n",
    "    return url.sub(r'URL',text)\n",
    "\n",
    "# Remove HTML beacon\n",
    "def remove_HTML(text):\n",
    "    html=re.compile(r'<.*?>')\n",
    "    return html.sub(r'',text)\n",
    "\n",
    "# Remove non printable characters\n",
    "def remove_not_ASCII(text):\n",
    "    text = ''.join([word for word in text if word in string.printable])\n",
    "    return text\n",
    "\n",
    "# Change an abbreviation by its true meaning\n",
    "def word_abbrev(word):\n",
    "    return abbreviations[word.lower()] if word.lower() in abbreviations.keys() else word\n",
    "\n",
    "# Replace all abbreviations\n",
    "def replace_abbrev(text):\n",
    "    string = \"\"\n",
    "    for word in text.split():\n",
    "        string += word_abbrev(word) + \" \"        \n",
    "    return string\n",
    "\n",
    "# Remove @ and mention, replace by USER\n",
    "def remove_mention(text):\n",
    "    at=re.compile(r'@\\S+')\n",
    "    return at.sub(r'USER',text)\n",
    "\n",
    "# Remove numbers, replace it by NUMBER\n",
    "def remove_number(text):\n",
    "    num = re.compile(r'[-+]?[.\\d]*[\\d]+[:,.\\d]*')\n",
    "    return num.sub(r'NUMBER', text)\n",
    "\n",
    "# Remove all emojis, replace by EMOJI\n",
    "def remove_emoji(text):\n",
    "    emoji_pattern = re.compile(\"[\"\n",
    "                           u\"\\U0001F600-\\U0001F64F\"  # emoticons\n",
    "                           u\"\\U0001F300-\\U0001F5FF\"  # symbols & pictographs\n",
    "                           u\"\\U0001F680-\\U0001F6FF\"  # transport & map symbols\n",
    "                           u\"\\U0001F1E0-\\U0001F1FF\"  # flags (iOS)\n",
    "                           u\"\\U00002702-\\U000027B0\"\n",
    "                           u\"\\U000024C2-\\U0001F251\"\n",
    "                           \"]+\", flags=re.UNICODE)\n",
    "    return emoji_pattern.sub(r'EMOJI', text)\n",
    "\n",
    "# Replace some others smileys with SADFACE\n",
    "def transcription_sad(text):\n",
    "    eyes = \"[8:=;]\"\n",
    "    nose = \"['`\\-]\"\n",
    "    smiley = re.compile(r'[8:=;][\\'\\-]?[(\\\\/]')\n",
    "    return smiley.sub(r'SADFACE', text)\n",
    "\n",
    "# Replace some smileys with SMILE\n",
    "def transcription_smile(text):\n",
    "    eyes = \"[8:=;]\"\n",
    "    nose = \"['`\\-]\"\n",
    "    smiley = re.compile(r'[8:=;][\\'\\-]?[)dDp]')\n",
    "    #smiley = re.compile(r'#{eyes}#{nose}[)d]+|[)d]+#{nose}#{eyes}/i')\n",
    "    return smiley.sub(r'SMILE', text)\n",
    "\n",
    "# Replace <3 with HEART\n",
    "def transcription_heart(text):\n",
    "    heart = re.compile(r'<3')\n",
    "    return heart.sub(r'HEART', text)"
   ]
  },
  {
   "cell_type": "code",
   "execution_count": 20,
   "id": "0bfbacca",
   "metadata": {
    "execution": {
     "iopub.execute_input": "2022-08-06T19:44:02.714400Z",
     "iopub.status.busy": "2022-08-06T19:44:02.713918Z",
     "iopub.status.idle": "2022-08-06T19:44:02.720710Z",
     "shell.execute_reply": "2022-08-06T19:44:02.719548Z"
    },
    "papermill": {
     "duration": 0.027227,
     "end_time": "2022-08-06T19:44:02.722974",
     "exception": false,
     "start_time": "2022-08-06T19:44:02.695747",
     "status": "completed"
    },
    "tags": []
   },
   "outputs": [],
   "source": [
    "def clean_tweet(text):\n",
    "    \n",
    "    # Remove non text\n",
    "    text = remove_URL(text)\n",
    "    text = remove_HTML(text)\n",
    "    text = remove_not_ASCII(text)\n",
    "    \n",
    "    # replace abbreviations, @ and number\n",
    "    text = replace_abbrev(text)  \n",
    "    text = remove_mention(text)\n",
    "    text = remove_number(text)\n",
    "    \n",
    "    # Remove emojis / smileys\n",
    "    text = remove_emoji(text)\n",
    "    text = transcription_sad(text)\n",
    "    text = transcription_smile(text)\n",
    "    text = transcription_heart(text)\n",
    "  \n",
    "    return text"
   ]
  },
  {
   "cell_type": "markdown",
   "id": "e7b33acf",
   "metadata": {
    "papermill": {
     "duration": 0.016576,
     "end_time": "2022-08-06T19:44:02.756418",
     "exception": false,
     "start_time": "2022-08-06T19:44:02.739842",
     "status": "completed"
    },
    "tags": []
   },
   "source": [
    "Function clean_tweet() will remove all the noise in the text."
   ]
  },
  {
   "cell_type": "code",
   "execution_count": 21,
   "id": "a03a801b",
   "metadata": {
    "execution": {
     "iopub.execute_input": "2022-08-06T19:44:02.792578Z",
     "iopub.status.busy": "2022-08-06T19:44:02.792134Z",
     "iopub.status.idle": "2022-08-06T19:44:03.140806Z",
     "shell.execute_reply": "2022-08-06T19:44:03.139568Z"
    },
    "papermill": {
     "duration": 0.36994,
     "end_time": "2022-08-06T19:44:03.143456",
     "exception": false,
     "start_time": "2022-08-06T19:44:02.773516",
     "status": "completed"
    },
    "tags": []
   },
   "outputs": [],
   "source": [
    "df_train[\"clean_text\"] = df_train[\"clean_text\"].apply(clean_tweet)"
   ]
  },
  {
   "cell_type": "code",
   "execution_count": 22,
   "id": "7214e028",
   "metadata": {
    "execution": {
     "iopub.execute_input": "2022-08-06T19:44:03.178867Z",
     "iopub.status.busy": "2022-08-06T19:44:03.178454Z",
     "iopub.status.idle": "2022-08-06T19:44:03.189441Z",
     "shell.execute_reply": "2022-08-06T19:44:03.188613Z"
    },
    "papermill": {
     "duration": 0.031055,
     "end_time": "2022-08-06T19:44:03.191453",
     "exception": false,
     "start_time": "2022-08-06T19:44:03.160398",
     "status": "completed"
    },
    "tags": []
   },
   "outputs": [
    {
     "data": {
      "text/html": [
       "<div>\n",
       "<style scoped>\n",
       "    .dataframe tbody tr th:only-of-type {\n",
       "        vertical-align: middle;\n",
       "    }\n",
       "\n",
       "    .dataframe tbody tr th {\n",
       "        vertical-align: top;\n",
       "    }\n",
       "\n",
       "    .dataframe thead th {\n",
       "        text-align: right;\n",
       "    }\n",
       "</style>\n",
       "<table border=\"1\" class=\"dataframe\">\n",
       "  <thead>\n",
       "    <tr style=\"text-align: right;\">\n",
       "      <th></th>\n",
       "      <th>text</th>\n",
       "      <th>target</th>\n",
       "      <th>length</th>\n",
       "      <th>clean_text</th>\n",
       "    </tr>\n",
       "  </thead>\n",
       "  <tbody>\n",
       "    <tr>\n",
       "      <th>0</th>\n",
       "      <td>Our Deeds are the Reason of this #earthquake M...</td>\n",
       "      <td>1</td>\n",
       "      <td>69</td>\n",
       "      <td>Our Deeds are the Reason of this earthquake Ma...</td>\n",
       "    </tr>\n",
       "    <tr>\n",
       "      <th>1</th>\n",
       "      <td>Forest fire near La Ronge Sask. Canada</td>\n",
       "      <td>1</td>\n",
       "      <td>38</td>\n",
       "      <td>Forest fire near La Ronge Sask Canada</td>\n",
       "    </tr>\n",
       "    <tr>\n",
       "      <th>2</th>\n",
       "      <td>All residents asked to 'shelter in place' are ...</td>\n",
       "      <td>1</td>\n",
       "      <td>133</td>\n",
       "      <td>All residents asked to shelter in place are be...</td>\n",
       "    </tr>\n",
       "    <tr>\n",
       "      <th>3</th>\n",
       "      <td>13,000 people receive #wildfires evacuation or...</td>\n",
       "      <td>1</td>\n",
       "      <td>65</td>\n",
       "      <td>NUMBER people receive wildfires evacuation ord...</td>\n",
       "    </tr>\n",
       "    <tr>\n",
       "      <th>4</th>\n",
       "      <td>Just got sent this photo from Ruby #Alaska as ...</td>\n",
       "      <td>1</td>\n",
       "      <td>88</td>\n",
       "      <td>Just got sent this photo from Ruby Alaska as s...</td>\n",
       "    </tr>\n",
       "  </tbody>\n",
       "</table>\n",
       "</div>"
      ],
      "text/plain": [
       "                                                text  target  length  \\\n",
       "0  Our Deeds are the Reason of this #earthquake M...       1      69   \n",
       "1             Forest fire near La Ronge Sask. Canada       1      38   \n",
       "2  All residents asked to 'shelter in place' are ...       1     133   \n",
       "3  13,000 people receive #wildfires evacuation or...       1      65   \n",
       "4  Just got sent this photo from Ruby #Alaska as ...       1      88   \n",
       "\n",
       "                                          clean_text  \n",
       "0  Our Deeds are the Reason of this earthquake Ma...  \n",
       "1             Forest fire near La Ronge Sask Canada   \n",
       "2  All residents asked to shelter in place are be...  \n",
       "3  NUMBER people receive wildfires evacuation ord...  \n",
       "4  Just got sent this photo from Ruby Alaska as s...  "
      ]
     },
     "execution_count": 22,
     "metadata": {},
     "output_type": "execute_result"
    }
   ],
   "source": [
    "df_train.head()"
   ]
  },
  {
   "cell_type": "markdown",
   "id": "72d78671",
   "metadata": {
    "papermill": {
     "duration": 0.016771,
     "end_time": "2022-08-06T19:44:03.225403",
     "exception": false,
     "start_time": "2022-08-06T19:44:03.208632",
     "status": "completed"
    },
    "tags": []
   },
   "source": [
    "**Removing Stopwords:**"
   ]
  },
  {
   "cell_type": "markdown",
   "id": "6abf8e3d",
   "metadata": {
    "papermill": {
     "duration": 0.016615,
     "end_time": "2022-08-06T19:44:03.259086",
     "exception": false,
     "start_time": "2022-08-06T19:44:03.242471",
     "status": "completed"
    },
    "tags": []
   },
   "source": [
    "Stopwords are commonly used words, which do not have any distinguishing features, like \"a\", \"an\", \"the\", so on… and search engine is programmed to ignore them while indexing entries and while retrieving the results of a search query. It saves space in the database and decreases processing speed. \n",
    "\n",
    "Natural Language Toolkit(nlkt) in python has a list of stopwords stored in 16 different languages. It is a leading platform for building a python program to work with human language data.\n"
   ]
  },
  {
   "cell_type": "code",
   "execution_count": 23,
   "id": "5f9d3782",
   "metadata": {
    "execution": {
     "iopub.execute_input": "2022-08-06T19:44:03.295865Z",
     "iopub.status.busy": "2022-08-06T19:44:03.295187Z",
     "iopub.status.idle": "2022-08-06T19:44:03.305998Z",
     "shell.execute_reply": "2022-08-06T19:44:03.304764Z"
    },
    "papermill": {
     "duration": 0.032204,
     "end_time": "2022-08-06T19:44:03.308915",
     "exception": false,
     "start_time": "2022-08-06T19:44:03.276711",
     "status": "completed"
    },
    "tags": []
   },
   "outputs": [
    {
     "name": "stdout",
     "output_type": "stream",
     "text": [
      "['i', 'me', 'my', 'myself', 'we', 'our', 'ours', 'ourselves', 'you', \"you're\", \"you've\", \"you'll\", \"you'd\", 'your', 'yours', 'yourself', 'yourselves', 'he', 'him', 'his', 'himself', 'she', \"she's\", 'her', 'hers', 'herself', 'it', \"it's\", 'its', 'itself', 'they', 'them', 'their', 'theirs', 'themselves', 'what', 'which', 'who', 'whom', 'this', 'that', \"that'll\", 'these', 'those', 'am', 'is', 'are', 'was', 'were', 'be', 'been', 'being', 'have', 'has', 'had', 'having', 'do', 'does', 'did', 'doing', 'a', 'an', 'the', 'and', 'but', 'if', 'or', 'because', 'as', 'until', 'while', 'of', 'at', 'by', 'for', 'with', 'about', 'against', 'between', 'into', 'through', 'during', 'before', 'after', 'above', 'below', 'to', 'from', 'up', 'down', 'in', 'out', 'on', 'off', 'over', 'under', 'again', 'further', 'then', 'once', 'here', 'there', 'when', 'where', 'why', 'how', 'all', 'any', 'both', 'each', 'few', 'more', 'most', 'other', 'some', 'such', 'no', 'nor', 'not', 'only', 'own', 'same', 'so', 'than', 'too', 'very', 's', 't', 'can', 'will', 'just', 'don', \"don't\", 'should', \"should've\", 'now', 'd', 'll', 'm', 'o', 're', 've', 'y', 'ain', 'aren', \"aren't\", 'couldn', \"couldn't\", 'didn', \"didn't\", 'doesn', \"doesn't\", 'hadn', \"hadn't\", 'hasn', \"hasn't\", 'haven', \"haven't\", 'isn', \"isn't\", 'ma', 'mightn', \"mightn't\", 'mustn', \"mustn't\", 'needn', \"needn't\", 'shan', \"shan't\", 'shouldn', \"shouldn't\", 'wasn', \"wasn't\", 'weren', \"weren't\", 'won', \"won't\", 'wouldn', \"wouldn't\"]\n"
     ]
    }
   ],
   "source": [
    "print(stopwords.words('english'))"
   ]
  },
  {
   "cell_type": "code",
   "execution_count": 24,
   "id": "c6921bf3",
   "metadata": {
    "execution": {
     "iopub.execute_input": "2022-08-06T19:44:03.345917Z",
     "iopub.status.busy": "2022-08-06T19:44:03.345276Z",
     "iopub.status.idle": "2022-08-06T19:44:03.350772Z",
     "shell.execute_reply": "2022-08-06T19:44:03.349915Z"
    },
    "papermill": {
     "duration": 0.026213,
     "end_time": "2022-08-06T19:44:03.352794",
     "exception": false,
     "start_time": "2022-08-06T19:44:03.326581",
     "status": "completed"
    },
    "tags": []
   },
   "outputs": [],
   "source": [
    "def remove_stopwords(text):\n",
    "    remove_stopword = [word for word in text.split() if word.lower() not in stopwords.words('english')]\n",
    "    return remove_stopword"
   ]
  },
  {
   "cell_type": "code",
   "execution_count": 25,
   "id": "0922afdd",
   "metadata": {
    "execution": {
     "iopub.execute_input": "2022-08-06T19:44:03.389576Z",
     "iopub.status.busy": "2022-08-06T19:44:03.388392Z",
     "iopub.status.idle": "2022-08-06T19:44:18.979041Z",
     "shell.execute_reply": "2022-08-06T19:44:18.977901Z"
    },
    "papermill": {
     "duration": 15.611783,
     "end_time": "2022-08-06T19:44:18.981742",
     "exception": false,
     "start_time": "2022-08-06T19:44:03.369959",
     "status": "completed"
    },
    "tags": []
   },
   "outputs": [],
   "source": [
    "df_train[\"clean_text\"] = df_train[\"clean_text\"].apply(remove_stopwords)"
   ]
  },
  {
   "cell_type": "code",
   "execution_count": 26,
   "id": "c2a2b85a",
   "metadata": {
    "execution": {
     "iopub.execute_input": "2022-08-06T19:44:19.018726Z",
     "iopub.status.busy": "2022-08-06T19:44:19.017862Z",
     "iopub.status.idle": "2022-08-06T19:44:19.031182Z",
     "shell.execute_reply": "2022-08-06T19:44:19.030067Z"
    },
    "papermill": {
     "duration": 0.034423,
     "end_time": "2022-08-06T19:44:19.033755",
     "exception": false,
     "start_time": "2022-08-06T19:44:18.999332",
     "status": "completed"
    },
    "tags": []
   },
   "outputs": [
    {
     "data": {
      "text/html": [
       "<div>\n",
       "<style scoped>\n",
       "    .dataframe tbody tr th:only-of-type {\n",
       "        vertical-align: middle;\n",
       "    }\n",
       "\n",
       "    .dataframe tbody tr th {\n",
       "        vertical-align: top;\n",
       "    }\n",
       "\n",
       "    .dataframe thead th {\n",
       "        text-align: right;\n",
       "    }\n",
       "</style>\n",
       "<table border=\"1\" class=\"dataframe\">\n",
       "  <thead>\n",
       "    <tr style=\"text-align: right;\">\n",
       "      <th></th>\n",
       "      <th>text</th>\n",
       "      <th>target</th>\n",
       "      <th>length</th>\n",
       "      <th>clean_text</th>\n",
       "    </tr>\n",
       "  </thead>\n",
       "  <tbody>\n",
       "    <tr>\n",
       "      <th>0</th>\n",
       "      <td>Our Deeds are the Reason of this #earthquake M...</td>\n",
       "      <td>1</td>\n",
       "      <td>69</td>\n",
       "      <td>[Deeds, Reason, earthquake, May, ALLAH, Forgiv...</td>\n",
       "    </tr>\n",
       "    <tr>\n",
       "      <th>1</th>\n",
       "      <td>Forest fire near La Ronge Sask. Canada</td>\n",
       "      <td>1</td>\n",
       "      <td>38</td>\n",
       "      <td>[Forest, fire, near, La, Ronge, Sask, Canada]</td>\n",
       "    </tr>\n",
       "    <tr>\n",
       "      <th>2</th>\n",
       "      <td>All residents asked to 'shelter in place' are ...</td>\n",
       "      <td>1</td>\n",
       "      <td>133</td>\n",
       "      <td>[residents, asked, shelter, place, notified, o...</td>\n",
       "    </tr>\n",
       "    <tr>\n",
       "      <th>3</th>\n",
       "      <td>13,000 people receive #wildfires evacuation or...</td>\n",
       "      <td>1</td>\n",
       "      <td>65</td>\n",
       "      <td>[NUMBER, people, receive, wildfires, evacuatio...</td>\n",
       "    </tr>\n",
       "    <tr>\n",
       "      <th>4</th>\n",
       "      <td>Just got sent this photo from Ruby #Alaska as ...</td>\n",
       "      <td>1</td>\n",
       "      <td>88</td>\n",
       "      <td>[got, sent, photo, Ruby, Alaska, smoke, wildfi...</td>\n",
       "    </tr>\n",
       "  </tbody>\n",
       "</table>\n",
       "</div>"
      ],
      "text/plain": [
       "                                                text  target  length  \\\n",
       "0  Our Deeds are the Reason of this #earthquake M...       1      69   \n",
       "1             Forest fire near La Ronge Sask. Canada       1      38   \n",
       "2  All residents asked to 'shelter in place' are ...       1     133   \n",
       "3  13,000 people receive #wildfires evacuation or...       1      65   \n",
       "4  Just got sent this photo from Ruby #Alaska as ...       1      88   \n",
       "\n",
       "                                          clean_text  \n",
       "0  [Deeds, Reason, earthquake, May, ALLAH, Forgiv...  \n",
       "1      [Forest, fire, near, La, Ronge, Sask, Canada]  \n",
       "2  [residents, asked, shelter, place, notified, o...  \n",
       "3  [NUMBER, people, receive, wildfires, evacuatio...  \n",
       "4  [got, sent, photo, Ruby, Alaska, smoke, wildfi...  "
      ]
     },
     "execution_count": 26,
     "metadata": {},
     "output_type": "execute_result"
    }
   ],
   "source": [
    "df_train.head()"
   ]
  },
  {
   "cell_type": "markdown",
   "id": "30dfd5f7",
   "metadata": {
    "papermill": {
     "duration": 0.017239,
     "end_time": "2022-08-06T19:44:19.068611",
     "exception": false,
     "start_time": "2022-08-06T19:44:19.051372",
     "status": "completed"
    },
    "tags": []
   },
   "source": [
    "**Lowercasing:**"
   ]
  },
  {
   "cell_type": "markdown",
   "id": "9fbcc98e",
   "metadata": {
    "papermill": {
     "duration": 0.016892,
     "end_time": "2022-08-06T19:44:19.102841",
     "exception": false,
     "start_time": "2022-08-06T19:44:19.085949",
     "status": "completed"
    },
    "tags": []
   },
   "source": [
    "Lowercasing is a preprocessing method in which the text is converted into the lower case. In tokenization, Keras tokenizer is used, which will be converting texts to lowercase.\n",
    "\n",
    "So here there is no need for lowercasing the texts as it will be a duplicate work.\n"
   ]
  },
  {
   "cell_type": "markdown",
   "id": "4f0315b7",
   "metadata": {
    "papermill": {
     "duration": 0.017046,
     "end_time": "2022-08-06T19:44:19.137169",
     "exception": false,
     "start_time": "2022-08-06T19:44:19.120123",
     "status": "completed"
    },
    "tags": []
   },
   "source": [
    "**Tokenization:**"
   ]
  },
  {
   "cell_type": "markdown",
   "id": "877138ef",
   "metadata": {
    "papermill": {
     "duration": 0.016926,
     "end_time": "2022-08-06T19:44:19.171364",
     "exception": false,
     "start_time": "2022-08-06T19:44:19.154438",
     "status": "completed"
    },
    "tags": []
   },
   "source": [
    "Tokenization generally decomposes text documents into small tokens and constructs a document word matrix. A document can be considered as a bag of words. Collection of document is called Corpus.\n",
    "\n",
    "In document word matrix :\n",
    "\n",
    "* Each Row represents a document (bag of words)\n",
    "* Each column distinct token\n",
    "* Each cell represents the frequency of occurrence of the token\n",
    "\n",
    "Here Keras Tokenizer() is used which is supported by Tensorflow as a high-level API that encodes the token to a numerical value. The main reason to use this is in LSTM input is provided by embedding layer, which requires input data to be integer encoded.\n",
    "\n",
    "Parameter 'num_words' can be used to restrict the number of the token to considered by the model.\n",
    "\n",
    "Tokenizer() uses fit_on_texts() and texts_to_sequences() to encode the texts to numerical values.\n",
    "\n",
    "* Fit_on_texts() Updates internal vocabulary based on a list of texts. It will create a dictionary with word mapping with an index (unique numerical value). Here all the words will be in lower case and the least value of index will be the more frequent word.\n",
    "\n",
    "* texts_to_sequences() Transforms each text in texts to a sequence of numerical value. It will give assign the index of each to the word. So the output will be series of numerical values.\n",
    "\n"
   ]
  },
  {
   "cell_type": "code",
   "execution_count": 27,
   "id": "3a1c47c5",
   "metadata": {
    "execution": {
     "iopub.execute_input": "2022-08-06T19:44:19.208190Z",
     "iopub.status.busy": "2022-08-06T19:44:19.207780Z",
     "iopub.status.idle": "2022-08-06T19:44:19.220720Z",
     "shell.execute_reply": "2022-08-06T19:44:19.219621Z"
    },
    "papermill": {
     "duration": 0.034129,
     "end_time": "2022-08-06T19:44:19.223083",
     "exception": false,
     "start_time": "2022-08-06T19:44:19.188954",
     "status": "completed"
    },
    "tags": []
   },
   "outputs": [
    {
     "data": {
      "text/html": [
       "<div>\n",
       "<style scoped>\n",
       "    .dataframe tbody tr th:only-of-type {\n",
       "        vertical-align: middle;\n",
       "    }\n",
       "\n",
       "    .dataframe tbody tr th {\n",
       "        vertical-align: top;\n",
       "    }\n",
       "\n",
       "    .dataframe thead th {\n",
       "        text-align: right;\n",
       "    }\n",
       "</style>\n",
       "<table border=\"1\" class=\"dataframe\">\n",
       "  <thead>\n",
       "    <tr style=\"text-align: right;\">\n",
       "      <th></th>\n",
       "      <th>text</th>\n",
       "      <th>target</th>\n",
       "      <th>length</th>\n",
       "      <th>clean_text</th>\n",
       "    </tr>\n",
       "  </thead>\n",
       "  <tbody>\n",
       "    <tr>\n",
       "      <th>0</th>\n",
       "      <td>Our Deeds are the Reason of this #earthquake M...</td>\n",
       "      <td>1</td>\n",
       "      <td>69</td>\n",
       "      <td>[Deeds, Reason, earthquake, May, ALLAH, Forgiv...</td>\n",
       "    </tr>\n",
       "    <tr>\n",
       "      <th>1</th>\n",
       "      <td>Forest fire near La Ronge Sask. Canada</td>\n",
       "      <td>1</td>\n",
       "      <td>38</td>\n",
       "      <td>[Forest, fire, near, La, Ronge, Sask, Canada]</td>\n",
       "    </tr>\n",
       "    <tr>\n",
       "      <th>2</th>\n",
       "      <td>All residents asked to 'shelter in place' are ...</td>\n",
       "      <td>1</td>\n",
       "      <td>133</td>\n",
       "      <td>[residents, asked, shelter, place, notified, o...</td>\n",
       "    </tr>\n",
       "    <tr>\n",
       "      <th>3</th>\n",
       "      <td>13,000 people receive #wildfires evacuation or...</td>\n",
       "      <td>1</td>\n",
       "      <td>65</td>\n",
       "      <td>[NUMBER, people, receive, wildfires, evacuatio...</td>\n",
       "    </tr>\n",
       "    <tr>\n",
       "      <th>4</th>\n",
       "      <td>Just got sent this photo from Ruby #Alaska as ...</td>\n",
       "      <td>1</td>\n",
       "      <td>88</td>\n",
       "      <td>[got, sent, photo, Ruby, Alaska, smoke, wildfi...</td>\n",
       "    </tr>\n",
       "  </tbody>\n",
       "</table>\n",
       "</div>"
      ],
      "text/plain": [
       "                                                text  target  length  \\\n",
       "0  Our Deeds are the Reason of this #earthquake M...       1      69   \n",
       "1             Forest fire near La Ronge Sask. Canada       1      38   \n",
       "2  All residents asked to 'shelter in place' are ...       1     133   \n",
       "3  13,000 people receive #wildfires evacuation or...       1      65   \n",
       "4  Just got sent this photo from Ruby #Alaska as ...       1      88   \n",
       "\n",
       "                                          clean_text  \n",
       "0  [Deeds, Reason, earthquake, May, ALLAH, Forgiv...  \n",
       "1      [Forest, fire, near, La, Ronge, Sask, Canada]  \n",
       "2  [residents, asked, shelter, place, notified, o...  \n",
       "3  [NUMBER, people, receive, wildfires, evacuatio...  \n",
       "4  [got, sent, photo, Ruby, Alaska, smoke, wildfi...  "
      ]
     },
     "execution_count": 27,
     "metadata": {},
     "output_type": "execute_result"
    }
   ],
   "source": [
    "df_train.head()"
   ]
  },
  {
   "cell_type": "code",
   "execution_count": 28,
   "id": "707d0434",
   "metadata": {
    "execution": {
     "iopub.execute_input": "2022-08-06T19:44:19.260317Z",
     "iopub.status.busy": "2022-08-06T19:44:19.259916Z",
     "iopub.status.idle": "2022-08-06T19:44:19.448296Z",
     "shell.execute_reply": "2022-08-06T19:44:19.447281Z"
    },
    "papermill": {
     "duration": 0.210134,
     "end_time": "2022-08-06T19:44:19.451058",
     "exception": false,
     "start_time": "2022-08-06T19:44:19.240924",
     "status": "completed"
    },
    "tags": []
   },
   "outputs": [],
   "source": [
    "vocab_size = 23000\n",
    "tokenizer = Tokenizer(num_words = vocab_size, split='')\n",
    "tokenizer.fit_on_texts(df_train['clean_text'].values)\n",
    "X = tokenizer.texts_to_sequences(df_train['clean_text'].values)\n",
    "X = pad_sequences(X)"
   ]
  },
  {
   "cell_type": "markdown",
   "id": "c9b74eb7",
   "metadata": {
    "papermill": {
     "duration": 0.017988,
     "end_time": "2022-08-06T19:44:19.487569",
     "exception": false,
     "start_time": "2022-08-06T19:44:19.469581",
     "status": "completed"
    },
    "tags": []
   },
   "source": [
    "We are not be having the same length for all the sentences and while providing input to neural networks, we should have the same dimension for all inputs. So pad_sequence() is used to pad the input so that all the inputs have the same dimension. It will add zeros to the input, in the beginning, to make sure all the inputs have the same dimension."
   ]
  },
  {
   "cell_type": "code",
   "execution_count": 29,
   "id": "62d74e99",
   "metadata": {
    "execution": {
     "iopub.execute_input": "2022-08-06T19:44:19.525033Z",
     "iopub.status.busy": "2022-08-06T19:44:19.524638Z",
     "iopub.status.idle": "2022-08-06T19:44:19.531582Z",
     "shell.execute_reply": "2022-08-06T19:44:19.530422Z"
    },
    "papermill": {
     "duration": 0.028472,
     "end_time": "2022-08-06T19:44:19.533903",
     "exception": false,
     "start_time": "2022-08-06T19:44:19.505431",
     "status": "completed"
    },
    "tags": []
   },
   "outputs": [
    {
     "data": {
      "text/plain": [
       "(7613, 25)"
      ]
     },
     "execution_count": 29,
     "metadata": {},
     "output_type": "execute_result"
    }
   ],
   "source": [
    "X.shape"
   ]
  },
  {
   "cell_type": "markdown",
   "id": "e93dfd97",
   "metadata": {
    "papermill": {
     "duration": 0.017141,
     "end_time": "2022-08-06T19:44:19.568955",
     "exception": false,
     "start_time": "2022-08-06T19:44:19.551814",
     "status": "completed"
    },
    "tags": []
   },
   "source": [
    "Here size of tokenized vector is 20, it is the maximum length of clean_text considering excluding those tokens which does not belong to top 3000 tokens. That is if the maximum length of clean_text is 35, then the 15 token will not be qualified to come under top 3000 tokens.\n",
    "\n",
    "We can restrict on enhance dimension of tokenized vector by providing a parameter maxlen to pad_sequence().\n"
   ]
  },
  {
   "cell_type": "markdown",
   "id": "3b9236f5",
   "metadata": {
    "papermill": {
     "duration": 0.017215,
     "end_time": "2022-08-06T19:44:19.603939",
     "exception": false,
     "start_time": "2022-08-06T19:44:19.586724",
     "status": "completed"
    },
    "tags": []
   },
   "source": [
    "<a id=\"1\"></a> <br>\n",
    "# 4. Modeling Using LSTM"
   ]
  },
  {
   "cell_type": "code",
   "execution_count": 30,
   "id": "ffb1599f",
   "metadata": {
    "execution": {
     "iopub.execute_input": "2022-08-06T19:44:19.640723Z",
     "iopub.status.busy": "2022-08-06T19:44:19.640327Z",
     "iopub.status.idle": "2022-08-06T19:44:19.645383Z",
     "shell.execute_reply": "2022-08-06T19:44:19.644124Z"
    },
    "papermill": {
     "duration": 0.026184,
     "end_time": "2022-08-06T19:44:19.647599",
     "exception": false,
     "start_time": "2022-08-06T19:44:19.621415",
     "status": "completed"
    },
    "tags": []
   },
   "outputs": [],
   "source": [
    "y = df_train.target"
   ]
  },
  {
   "cell_type": "code",
   "execution_count": 31,
   "id": "703bc619",
   "metadata": {
    "execution": {
     "iopub.execute_input": "2022-08-06T19:44:19.685120Z",
     "iopub.status.busy": "2022-08-06T19:44:19.684263Z",
     "iopub.status.idle": "2022-08-06T19:44:19.692056Z",
     "shell.execute_reply": "2022-08-06T19:44:19.691260Z"
    },
    "papermill": {
     "duration": 0.029474,
     "end_time": "2022-08-06T19:44:19.694590",
     "exception": false,
     "start_time": "2022-08-06T19:44:19.665116",
     "status": "completed"
    },
    "tags": []
   },
   "outputs": [],
   "source": [
    "X_train,X_test,y_train,y_test = train_test_split(X,y,test_size=0.2, random_state=42)"
   ]
  },
  {
   "cell_type": "markdown",
   "id": "8650b898",
   "metadata": {
    "papermill": {
     "duration": 0.017217,
     "end_time": "2022-08-06T19:44:19.729899",
     "exception": false,
     "start_time": "2022-08-06T19:44:19.712682",
     "status": "completed"
    },
    "tags": []
   },
   "source": [
    "**Embedding Layer:**"
   ]
  },
  {
   "cell_type": "markdown",
   "id": "94da04ef",
   "metadata": {
    "papermill": {
     "duration": 0.01705,
     "end_time": "2022-08-06T19:44:19.764432",
     "exception": false,
     "start_time": "2022-08-06T19:44:19.747382",
     "status": "completed"
    },
    "tags": []
   },
   "source": [
    "\n",
    "\n",
    "Embedding layer is the first layer of neural network and it has 3 parameters:\n",
    "\n",
    "* input_dim: Number of distinct token vector, here it will be 3000 (max_features)\n",
    "* output_dim: Dimension of embedding vector, we can take 32 dimension\n",
    "* input_length: Size of input layer\n",
    "\n",
    "Here embedding layer of size will be (3000, 32).\n"
   ]
  },
  {
   "cell_type": "code",
   "execution_count": 32,
   "id": "31b428f2",
   "metadata": {
    "execution": {
     "iopub.execute_input": "2022-08-06T19:44:19.802332Z",
     "iopub.status.busy": "2022-08-06T19:44:19.801149Z",
     "iopub.status.idle": "2022-08-06T19:44:20.108789Z",
     "shell.execute_reply": "2022-08-06T19:44:20.107610Z"
    },
    "papermill": {
     "duration": 0.329607,
     "end_time": "2022-08-06T19:44:20.111572",
     "exception": false,
     "start_time": "2022-08-06T19:44:19.781965",
     "status": "completed"
    },
    "tags": []
   },
   "outputs": [
    {
     "name": "stderr",
     "output_type": "stream",
     "text": [
      "2022-08-06 19:44:19.848505: I tensorflow/core/common_runtime/process_util.cc:146] Creating new thread pool with default inter op setting: 2. Tune using inter_op_parallelism_threads for best performance.\n"
     ]
    }
   ],
   "source": [
    "embed_dim = 32\n",
    "lstm_out = 32\n",
    "model = models.Sequential()\n",
    "model.add(layers.Embedding(vocab_size,embed_dim,input_length=X.shape[1]))\n",
    "model.add(layers.Dropout(0.2))\n",
    "model.add(layers.LSTM(units = lstm_out, dropout=0.2, recurrent_dropout=0.4))\n",
    "model.add(layers.Dense(1, activation='sigmoid'))\n",
    "model.compile(optimizer='adam', loss = 'binary_crossentropy', metrics = ['accuracy'])"
   ]
  },
  {
   "cell_type": "code",
   "execution_count": 33,
   "id": "fe2bf86d",
   "metadata": {
    "execution": {
     "iopub.execute_input": "2022-08-06T19:44:20.149569Z",
     "iopub.status.busy": "2022-08-06T19:44:20.148272Z",
     "iopub.status.idle": "2022-08-06T19:44:20.155164Z",
     "shell.execute_reply": "2022-08-06T19:44:20.154185Z"
    },
    "papermill": {
     "duration": 0.028623,
     "end_time": "2022-08-06T19:44:20.158058",
     "exception": false,
     "start_time": "2022-08-06T19:44:20.129435",
     "status": "completed"
    },
    "tags": []
   },
   "outputs": [
    {
     "name": "stdout",
     "output_type": "stream",
     "text": [
      "Model: \"sequential\"\n",
      "_________________________________________________________________\n",
      "Layer (type)                 Output Shape              Param #   \n",
      "=================================================================\n",
      "embedding (Embedding)        (None, 25, 32)            736000    \n",
      "_________________________________________________________________\n",
      "dropout (Dropout)            (None, 25, 32)            0         \n",
      "_________________________________________________________________\n",
      "lstm (LSTM)                  (None, 32)                8320      \n",
      "_________________________________________________________________\n",
      "dense (Dense)                (None, 1)                 33        \n",
      "=================================================================\n",
      "Total params: 744,353\n",
      "Trainable params: 744,353\n",
      "Non-trainable params: 0\n",
      "_________________________________________________________________\n"
     ]
    }
   ],
   "source": [
    "model.summary()"
   ]
  },
  {
   "cell_type": "markdown",
   "id": "c70d3496",
   "metadata": {
    "papermill": {
     "duration": 0.017311,
     "end_time": "2022-08-06T19:44:20.194038",
     "exception": false,
     "start_time": "2022-08-06T19:44:20.176727",
     "status": "completed"
    },
    "tags": []
   },
   "source": [
    "**Activation Function of Dense layer:**, i.e, is output layer is taken as Sigmoid function is taken as it is good at binary classification and our target column have value either 0 or 1.\n",
    "\n",
    "**Dropout :** It is added to avoid overfitting.\n",
    "\n",
    "**Loss Function :** The cross-entropy loss function is an optimization function that is used in the case of training a classification model and binary_crossentropy function computes the cross-entropy loss between true labels and predicted labels.\n",
    "\n",
    "**optimizer :** Adam is used as optimizer which is replacement optimization algorithm for stochastic gradient descent for training deep learning models. Default learning rate of Adam is 0.001, but here I have initialized it to 0.002.\n",
    "\n"
   ]
  },
  {
   "cell_type": "code",
   "execution_count": 34,
   "id": "a77ca6b5",
   "metadata": {
    "execution": {
     "iopub.execute_input": "2022-08-06T19:44:20.232069Z",
     "iopub.status.busy": "2022-08-06T19:44:20.230847Z",
     "iopub.status.idle": "2022-08-06T19:46:29.735747Z",
     "shell.execute_reply": "2022-08-06T19:46:29.734285Z"
    },
    "papermill": {
     "duration": 129.526801,
     "end_time": "2022-08-06T19:46:29.738624",
     "exception": false,
     "start_time": "2022-08-06T19:44:20.211823",
     "status": "completed"
    },
    "tags": []
   },
   "outputs": [
    {
     "name": "stderr",
     "output_type": "stream",
     "text": [
      "2022-08-06 19:44:20.292546: I tensorflow/compiler/mlir/mlir_graph_optimization_pass.cc:185] None of the MLIR Optimization Passes are enabled (registered 2)\n"
     ]
    },
    {
     "name": "stdout",
     "output_type": "stream",
     "text": [
      "Epoch 1/15\n",
      "191/191 [==============================] - 13s 47ms/step - loss: 0.5928 - accuracy: 0.6793 - val_loss: 0.4631 - val_accuracy: 0.7951\n",
      "Epoch 2/15\n",
      "191/191 [==============================] - 8s 43ms/step - loss: 0.3292 - accuracy: 0.8658 - val_loss: 0.4620 - val_accuracy: 0.7886\n",
      "Epoch 3/15\n",
      "191/191 [==============================] - 8s 43ms/step - loss: 0.1789 - accuracy: 0.9332 - val_loss: 0.5549 - val_accuracy: 0.7879\n",
      "Epoch 4/15\n",
      "191/191 [==============================] - 8s 43ms/step - loss: 0.0965 - accuracy: 0.9680 - val_loss: 0.6687 - val_accuracy: 0.7623\n",
      "Epoch 5/15\n",
      "191/191 [==============================] - 8s 44ms/step - loss: 0.0591 - accuracy: 0.9816 - val_loss: 0.7781 - val_accuracy: 0.7649\n",
      "Epoch 6/15\n",
      "191/191 [==============================] - 9s 45ms/step - loss: 0.0400 - accuracy: 0.9880 - val_loss: 0.9052 - val_accuracy: 0.7663\n",
      "Epoch 7/15\n",
      "191/191 [==============================] - 8s 44ms/step - loss: 0.0314 - accuracy: 0.9913 - val_loss: 0.8234 - val_accuracy: 0.7492\n",
      "Epoch 8/15\n",
      "191/191 [==============================] - 8s 43ms/step - loss: 0.0227 - accuracy: 0.9939 - val_loss: 0.9432 - val_accuracy: 0.7603\n",
      "Epoch 9/15\n",
      "191/191 [==============================] - 8s 43ms/step - loss: 0.0215 - accuracy: 0.9944 - val_loss: 0.9805 - val_accuracy: 0.7492\n",
      "Epoch 10/15\n",
      "191/191 [==============================] - 8s 44ms/step - loss: 0.0170 - accuracy: 0.9951 - val_loss: 0.8504 - val_accuracy: 0.7249\n",
      "Epoch 11/15\n",
      "191/191 [==============================] - 8s 44ms/step - loss: 0.0150 - accuracy: 0.9951 - val_loss: 1.0841 - val_accuracy: 0.7420\n",
      "Epoch 12/15\n",
      "191/191 [==============================] - 9s 45ms/step - loss: 0.0172 - accuracy: 0.9939 - val_loss: 1.0482 - val_accuracy: 0.7400\n",
      "Epoch 13/15\n",
      "191/191 [==============================] - 8s 43ms/step - loss: 0.0182 - accuracy: 0.9943 - val_loss: 0.9901 - val_accuracy: 0.7374\n",
      "Epoch 14/15\n",
      "191/191 [==============================] - 8s 43ms/step - loss: 0.0163 - accuracy: 0.9959 - val_loss: 0.9722 - val_accuracy: 0.7341\n",
      "Epoch 15/15\n",
      "191/191 [==============================] - 8s 43ms/step - loss: 0.0136 - accuracy: 0.9952 - val_loss: 0.9975 - val_accuracy: 0.7413\n"
     ]
    }
   ],
   "source": [
    "history = model.fit(X_train,y_train, epochs=15, batch_size=32, validation_data=(X_test,y_test))"
   ]
  },
  {
   "cell_type": "markdown",
   "id": "ae72b6ef",
   "metadata": {
    "papermill": {
     "duration": 0.110028,
     "end_time": "2022-08-06T19:46:29.958883",
     "exception": false,
     "start_time": "2022-08-06T19:46:29.848855",
     "status": "completed"
    },
    "tags": []
   },
   "source": [
    "<a id=\"1\"></a> <br>\n",
    "# 5. Evaluation"
   ]
  },
  {
   "cell_type": "code",
   "execution_count": 35,
   "id": "273f11be",
   "metadata": {
    "execution": {
     "iopub.execute_input": "2022-08-06T19:46:30.180438Z",
     "iopub.status.busy": "2022-08-06T19:46:30.179555Z",
     "iopub.status.idle": "2022-08-06T19:46:30.185135Z",
     "shell.execute_reply": "2022-08-06T19:46:30.184207Z"
    },
    "papermill": {
     "duration": 0.118661,
     "end_time": "2022-08-06T19:46:30.187490",
     "exception": false,
     "start_time": "2022-08-06T19:46:30.068829",
     "status": "completed"
    },
    "tags": []
   },
   "outputs": [],
   "source": [
    "from sklearn.metrics import accuracy_score, recall_score, precision_score, confusion_matrix, f1_score"
   ]
  },
  {
   "cell_type": "code",
   "execution_count": 36,
   "id": "dfbc065a",
   "metadata": {
    "execution": {
     "iopub.execute_input": "2022-08-06T19:46:30.412339Z",
     "iopub.status.busy": "2022-08-06T19:46:30.411666Z",
     "iopub.status.idle": "2022-08-06T19:46:32.632192Z",
     "shell.execute_reply": "2022-08-06T19:46:32.630650Z"
    },
    "papermill": {
     "duration": 2.337013,
     "end_time": "2022-08-06T19:46:32.634711",
     "exception": false,
     "start_time": "2022-08-06T19:46:30.297698",
     "status": "completed"
    },
    "tags": []
   },
   "outputs": [
    {
     "name": "stdout",
     "output_type": "stream",
     "text": [
      "191/191 [==============================] - 2s 9ms/step - loss: 0.0080 - accuracy: 0.9969\n",
      "Accuracy of the model on Training Data is -  99.68801140785217 %\n",
      "48/48 [==============================] - 0s 9ms/step - loss: 0.9975 - accuracy: 0.7413\n",
      "Accuracy of the model on Testing Data is -  74.13000464439392 %\n"
     ]
    }
   ],
   "source": [
    "print(\"Accuracy of the model on Training Data is - \" , model.evaluate(X_train,y_train)[1]*100 , \"%\")\n",
    "print(\"Accuracy of the model on Testing Data is - \" , model.evaluate(X_test,y_test)[1]*100 , \"%\")"
   ]
  },
  {
   "cell_type": "code",
   "execution_count": 37,
   "id": "2311208a",
   "metadata": {
    "execution": {
     "iopub.execute_input": "2022-08-06T19:46:32.861465Z",
     "iopub.status.busy": "2022-08-06T19:46:32.861014Z",
     "iopub.status.idle": "2022-08-06T19:46:33.638139Z",
     "shell.execute_reply": "2022-08-06T19:46:33.637125Z"
    },
    "papermill": {
     "duration": 0.894394,
     "end_time": "2022-08-06T19:46:33.640842",
     "exception": false,
     "start_time": "2022-08-06T19:46:32.746448",
     "status": "completed"
    },
    "tags": []
   },
   "outputs": [],
   "source": [
    "y_pred = model.predict(X_test).round()"
   ]
  },
  {
   "cell_type": "code",
   "execution_count": 38,
   "id": "374aafda",
   "metadata": {
    "execution": {
     "iopub.execute_input": "2022-08-06T19:46:33.867115Z",
     "iopub.status.busy": "2022-08-06T19:46:33.866330Z",
     "iopub.status.idle": "2022-08-06T19:46:33.873201Z",
     "shell.execute_reply": "2022-08-06T19:46:33.872429Z"
    },
    "papermill": {
     "duration": 0.122318,
     "end_time": "2022-08-06T19:46:33.875482",
     "exception": false,
     "start_time": "2022-08-06T19:46:33.753164",
     "status": "completed"
    },
    "tags": []
   },
   "outputs": [],
   "source": [
    "def measure(y_true, y_pred):\n",
    "    accuracy = round(accuracy_score(y_true, y_pred),4)\n",
    "    recall = round(recall_score(y_true, y_pred),4)\n",
    "    precision = round(precision_score(y_true, y_pred),4)\n",
    "    f1 = round(f1_score(y_true, y_pred),4)\n",
    "    return pd.Series({'accuracy_score':accuracy,\n",
    "                     'recall_score':recall,\n",
    "                     'precision_score':precision,\n",
    "                     'f1_score':f1})"
   ]
  },
  {
   "cell_type": "code",
   "execution_count": 39,
   "id": "f8055059",
   "metadata": {
    "execution": {
     "iopub.execute_input": "2022-08-06T19:46:34.101343Z",
     "iopub.status.busy": "2022-08-06T19:46:34.100542Z",
     "iopub.status.idle": "2022-08-06T19:46:34.115381Z",
     "shell.execute_reply": "2022-08-06T19:46:34.114449Z"
    },
    "papermill": {
     "duration": 0.130064,
     "end_time": "2022-08-06T19:46:34.117627",
     "exception": false,
     "start_time": "2022-08-06T19:46:33.987563",
     "status": "completed"
    },
    "tags": []
   },
   "outputs": [
    {
     "data": {
      "text/plain": [
       "accuracy_score     0.7413\n",
       "recall_score       0.6487\n",
       "precision_score    0.7172\n",
       "f1_score           0.6812\n",
       "dtype: float64"
      ]
     },
     "execution_count": 39,
     "metadata": {},
     "output_type": "execute_result"
    }
   ],
   "source": [
    "measure(y_test, y_pred)"
   ]
  },
  {
   "cell_type": "code",
   "execution_count": 40,
   "id": "ad995677",
   "metadata": {
    "execution": {
     "iopub.execute_input": "2022-08-06T19:46:34.413285Z",
     "iopub.status.busy": "2022-08-06T19:46:34.412845Z",
     "iopub.status.idle": "2022-08-06T19:46:34.419553Z",
     "shell.execute_reply": "2022-08-06T19:46:34.418571Z"
    },
    "papermill": {
     "duration": 0.193071,
     "end_time": "2022-08-06T19:46:34.421911",
     "exception": false,
     "start_time": "2022-08-06T19:46:34.228840",
     "status": "completed"
    },
    "tags": []
   },
   "outputs": [],
   "source": [
    "con = confusion_matrix(y_test,y_pred)"
   ]
  },
  {
   "cell_type": "code",
   "execution_count": 41,
   "id": "c94780f1",
   "metadata": {
    "execution": {
     "iopub.execute_input": "2022-08-06T19:46:34.648558Z",
     "iopub.status.busy": "2022-08-06T19:46:34.647757Z",
     "iopub.status.idle": "2022-08-06T19:46:34.817660Z",
     "shell.execute_reply": "2022-08-06T19:46:34.816520Z"
    },
    "papermill": {
     "duration": 0.285808,
     "end_time": "2022-08-06T19:46:34.820166",
     "exception": false,
     "start_time": "2022-08-06T19:46:34.534358",
     "status": "completed"
    },
    "tags": []
   },
   "outputs": [
    {
     "data": {
      "image/png": "[encoded data removed]",
      "text/plain": [
       "<Figure size 504x360 with 2 Axes>"
      ]
     },
     "metadata": {
      "needs_background": "light"
     },
     "output_type": "display_data"
    }
   ],
   "source": [
    "plt.figure(figsize=(7, 5))\n",
    "sns.heatmap(con, annot=True, fmt='d', cmap='cool')\n",
    "plt.show()"
   ]
  },
  {
   "cell_type": "markdown",
   "id": "d197dee0",
   "metadata": {
    "papermill": {
     "duration": 0.112332,
     "end_time": "2022-08-06T19:46:35.045915",
     "exception": false,
     "start_time": "2022-08-06T19:46:34.933583",
     "status": "completed"
    },
    "tags": []
   },
   "source": [
    "**As Accuracy, Precision, recall and F1 score are above 70 % this model can be considered as good model.**\n",
    "\n",
    "**By changing dimension on Embedding Layer, vocab_size, LSTM can check if the evalution factors are improving or not.**\n"
   ]
  },
  {
   "cell_type": "markdown",
   "id": "ba92516b",
   "metadata": {
    "papermill": {
     "duration": 0.112206,
     "end_time": "2022-08-06T19:46:35.269746",
     "exception": false,
     "start_time": "2022-08-06T19:46:35.157540",
     "status": "completed"
    },
    "tags": []
   },
   "source": [
    "<a id=\"1\"></a> <br>\n",
    "# 6. Submission"
   ]
  },
  {
   "cell_type": "markdown",
   "id": "b6a4ebdf",
   "metadata": {
    "papermill": {
     "duration": 0.112197,
     "end_time": "2022-08-06T19:46:35.494134",
     "exception": false,
     "start_time": "2022-08-06T19:46:35.381937",
     "status": "completed"
    },
    "tags": []
   },
   "source": [
    "For submission stopwords are not removing, as words like 'not' has a major role in distinguishing disaster and non-disaster tweet."
   ]
  },
  {
   "cell_type": "code",
   "execution_count": 42,
   "id": "3c4f3f50",
   "metadata": {
    "execution": {
     "iopub.execute_input": "2022-08-06T19:46:35.719796Z",
     "iopub.status.busy": "2022-08-06T19:46:35.719403Z",
     "iopub.status.idle": "2022-08-06T19:46:35.920953Z",
     "shell.execute_reply": "2022-08-06T19:46:35.919887Z"
    },
    "papermill": {
     "duration": 0.317605,
     "end_time": "2022-08-06T19:46:35.923785",
     "exception": false,
     "start_time": "2022-08-06T19:46:35.606180",
     "status": "completed"
    },
    "tags": []
   },
   "outputs": [],
   "source": [
    "df_test['clean_text'] = df_test['text'].apply(clean_text)\n",
    "\n",
    "df_test[\"clean_text\"] = df_test[\"clean_text\"].apply(clean_tweet)"
   ]
  },
  {
   "cell_type": "code",
   "execution_count": 43,
   "id": "61112260",
   "metadata": {
    "execution": {
     "iopub.execute_input": "2022-08-06T19:46:36.150243Z",
     "iopub.status.busy": "2022-08-06T19:46:36.149319Z",
     "iopub.status.idle": "2022-08-06T19:46:36.157127Z",
     "shell.execute_reply": "2022-08-06T19:46:36.156292Z"
    },
    "papermill": {
     "duration": 0.122806,
     "end_time": "2022-08-06T19:46:36.159247",
     "exception": false,
     "start_time": "2022-08-06T19:46:36.036441",
     "status": "completed"
    },
    "tags": []
   },
   "outputs": [
    {
     "data": {
      "text/plain": [
       "0                  Just happened a terrible car crash \n",
       "1    Heard about earthquake is different cities sta...\n",
       "2    there is a forest fire at spot pond geese are ...\n",
       "3               Apocalypse lighting Spokane wildfires \n",
       "4    Typhoon Soudelor kills NUMBER in China and Tai...\n",
       "Name: clean_text, dtype: object"
      ]
     },
     "execution_count": 43,
     "metadata": {},
     "output_type": "execute_result"
    }
   ],
   "source": [
    "df_test['clean_text'].head()"
   ]
  },
  {
   "cell_type": "code",
   "execution_count": 44,
   "id": "bf48cf4e",
   "metadata": {
    "execution": {
     "iopub.execute_input": "2022-08-06T19:46:36.385580Z",
     "iopub.status.busy": "2022-08-06T19:46:36.384534Z",
     "iopub.status.idle": "2022-08-06T19:46:36.546578Z",
     "shell.execute_reply": "2022-08-06T19:46:36.545154Z"
    },
    "papermill": {
     "duration": 0.278857,
     "end_time": "2022-08-06T19:46:36.549477",
     "exception": false,
     "start_time": "2022-08-06T19:46:36.270620",
     "status": "completed"
    },
    "tags": []
   },
   "outputs": [],
   "source": [
    "vocab_size = 23000\n",
    "tokenizer = Tokenizer(num_words = vocab_size)\n",
    "tokenizer.fit_on_texts(df_test['clean_text'].values)\n",
    "X = tokenizer.texts_to_sequences(df_test['clean_text'].values)\n",
    "X = pad_sequences(X)"
   ]
  },
  {
   "cell_type": "code",
   "execution_count": 45,
   "id": "e6911e2d",
   "metadata": {
    "execution": {
     "iopub.execute_input": "2022-08-06T19:46:36.775646Z",
     "iopub.status.busy": "2022-08-06T19:46:36.775206Z",
     "iopub.status.idle": "2022-08-06T19:46:38.218953Z",
     "shell.execute_reply": "2022-08-06T19:46:38.217752Z"
    },
    "papermill": {
     "duration": 1.55983,
     "end_time": "2022-08-06T19:46:38.221392",
     "exception": false,
     "start_time": "2022-08-06T19:46:36.661562",
     "status": "completed"
    },
    "tags": []
   },
   "outputs": [
    {
     "data": {
      "text/html": [
       "<style type=\"text/css\">\n",
       "#T_2b8cb_row0_col0 {\n",
       "  background-color: #9ebeff;\n",
       "  color: #000000;\n",
       "}\n",
       "#T_2b8cb_row0_col1, #T_2b8cb_row7_col0 {\n",
       "  background-color: #b40426;\n",
       "  color: #f1f1f1;\n",
       "}\n",
       "#T_2b8cb_row1_col0 {\n",
       "  background-color: #dcdddd;\n",
       "  color: #000000;\n",
       "}\n",
       "#T_2b8cb_row1_col1, #T_2b8cb_row2_col1, #T_2b8cb_row3_col0, #T_2b8cb_row3_col1, #T_2b8cb_row4_col1, #T_2b8cb_row5_col1, #T_2b8cb_row6_col1, #T_2b8cb_row7_col1 {\n",
       "  background-color: #3b4cc0;\n",
       "  color: #f1f1f1;\n",
       "}\n",
       "#T_2b8cb_row2_col0 {\n",
       "  background-color: #9bbcff;\n",
       "  color: #000000;\n",
       "}\n",
       "#T_2b8cb_row4_col0 {\n",
       "  background-color: #8caffe;\n",
       "  color: #000000;\n",
       "}\n",
       "#T_2b8cb_row5_col0 {\n",
       "  background-color: #dedcdb;\n",
       "  color: #000000;\n",
       "}\n",
       "#T_2b8cb_row6_col0 {\n",
       "  background-color: #f4987a;\n",
       "  color: #000000;\n",
       "}\n",
       "</style>\n",
       "<table id=\"T_2b8cb_\">\n",
       "  <thead>\n",
       "    <tr>\n",
       "      <th class=\"blank level0\" >&nbsp;</th>\n",
       "      <th class=\"col_heading level0 col0\" >id</th>\n",
       "      <th class=\"col_heading level0 col1\" >target</th>\n",
       "    </tr>\n",
       "  </thead>\n",
       "  <tbody>\n",
       "    <tr>\n",
       "      <th id=\"T_2b8cb_level0_row0\" class=\"row_heading level0 row0\" >count</th>\n",
       "      <td id=\"T_2b8cb_row0_col0\" class=\"data row0 col0\" >3263.000000</td>\n",
       "      <td id=\"T_2b8cb_row0_col1\" class=\"data row0 col1\" >3263.000000</td>\n",
       "    </tr>\n",
       "    <tr>\n",
       "      <th id=\"T_2b8cb_level0_row1\" class=\"row_heading level0 row1\" >mean</th>\n",
       "      <td id=\"T_2b8cb_row1_col0\" class=\"data row1 col0\" >5427.152927</td>\n",
       "      <td id=\"T_2b8cb_row1_col1\" class=\"data row1 col1\" >0.431811</td>\n",
       "    </tr>\n",
       "    <tr>\n",
       "      <th id=\"T_2b8cb_level0_row2\" class=\"row_heading level0 row2\" >std</th>\n",
       "      <td id=\"T_2b8cb_row2_col0\" class=\"data row2 col0\" >3146.427221</td>\n",
       "      <td id=\"T_2b8cb_row2_col1\" class=\"data row2 col1\" >0.495404</td>\n",
       "    </tr>\n",
       "    <tr>\n",
       "      <th id=\"T_2b8cb_level0_row3\" class=\"row_heading level0 row3\" >min</th>\n",
       "      <td id=\"T_2b8cb_row3_col0\" class=\"data row3 col0\" >0.000000</td>\n",
       "      <td id=\"T_2b8cb_row3_col1\" class=\"data row3 col1\" >0.000000</td>\n",
       "    </tr>\n",
       "    <tr>\n",
       "      <th id=\"T_2b8cb_level0_row4\" class=\"row_heading level0 row4\" >25%</th>\n",
       "      <td id=\"T_2b8cb_row4_col0\" class=\"data row4 col0\" >2683.000000</td>\n",
       "      <td id=\"T_2b8cb_row4_col1\" class=\"data row4 col1\" >0.000000</td>\n",
       "    </tr>\n",
       "    <tr>\n",
       "      <th id=\"T_2b8cb_level0_row5\" class=\"row_heading level0 row5\" >50%</th>\n",
       "      <td id=\"T_2b8cb_row5_col0\" class=\"data row5 col0\" >5500.000000</td>\n",
       "      <td id=\"T_2b8cb_row5_col1\" class=\"data row5 col1\" >0.000000</td>\n",
       "    </tr>\n",
       "    <tr>\n",
       "      <th id=\"T_2b8cb_level0_row6\" class=\"row_heading level0 row6\" >75%</th>\n",
       "      <td id=\"T_2b8cb_row6_col0\" class=\"data row6 col0\" >8176.000000</td>\n",
       "      <td id=\"T_2b8cb_row6_col1\" class=\"data row6 col1\" >1.000000</td>\n",
       "    </tr>\n",
       "    <tr>\n",
       "      <th id=\"T_2b8cb_level0_row7\" class=\"row_heading level0 row7\" >max</th>\n",
       "      <td id=\"T_2b8cb_row7_col0\" class=\"data row7 col0\" >10875.000000</td>\n",
       "      <td id=\"T_2b8cb_row7_col1\" class=\"data row7 col1\" >1.000000</td>\n",
       "    </tr>\n",
       "  </tbody>\n",
       "</table>\n"
      ],
      "text/plain": [
       "<pandas.io.formats.style.Styler at 0x7ff0e4ec4210>"
      ]
     },
     "execution_count": 45,
     "metadata": {},
     "output_type": "execute_result"
    }
   ],
   "source": [
    "y_hat = model.predict(X).round()\n",
    "submission = pd.read_csv(\"/kaggle/input/nlp-getting-started/sample_submission.csv\")\n",
    "submission['target'] = np.round(y_hat).astype('int')\n",
    "submission.to_csv('submission.csv', index=False)\n",
    "submission.describe().style.background_gradient(cmap='coolwarm')"
   ]
  }
 ],
 "metadata": {
  "kernelspec": {
   "display_name": "Python 3",
   "language": "python",
   "name": "python3"
  },
  "language_info": {
   "codemirror_mode": {
    "name": "ipython",
    "version": 3
   },
   "file_extension": ".py",
   "mimetype": "text/x-python",
   "name": "python",
   "nbconvert_exporter": "python",
   "pygments_lexer": "ipython3",
   "version": "3.7.12"
  },
  "papermill": {
   "default_parameters": {},
   "duration": 177.68275,
   "end_time": "2022-08-06T19:46:41.385533",
   "environment_variables": {},
   "exception": null,
   "input_path": "__notebook__.ipynb",
   "output_path": "__notebook__.ipynb",
   "parameters": {},
   "start_time": "2022-08-06T19:43:43.702783",
   "version": "2.3.4"
  }
 },
 "nbformat": 4,
 "nbformat_minor": 5
}
